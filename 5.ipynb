{
  "nbformat": 4,
  "nbformat_minor": 0,
  "metadata": {
    "colab": {
      "name": "Untitled13.ipynb",
      "provenance": [],
      "authorship_tag": "ABX9TyNOEIi+BOrOFFF8U69sveiI",
      "include_colab_link": true
    },
    "kernelspec": {
      "name": "python3",
      "display_name": "Python 3"
    },
    "language_info": {
      "name": "python"
    }
  },
  "cells": [
    {
      "cell_type": "markdown",
      "metadata": {
        "id": "view-in-github",
        "colab_type": "text"
      },
      "source": [
        "<a href=\"https://colab.research.google.com/github/DaniilErshov/Python6/blob/main/5.ipynb\" target=\"_parent\"><img src=\"https://colab.research.google.com/assets/colab-badge.svg\" alt=\"Open In Colab\"/></a>"
      ]
    },
    {
      "cell_type": "markdown",
      "source": [
        "1 задание"
      ],
      "metadata": {
        "id": "1aDzh8ZPM1ae"
      }
    },
    {
      "cell_type": "code",
      "execution_count": null,
      "metadata": {
        "colab": {
          "base_uri": "https://localhost:8080/"
        },
        "id": "F_JD7zb-Mz9O",
        "outputId": "e61927c0-81b3-4076-8c0a-72e0d2cf0d63"
      },
      "outputs": [
        {
          "output_type": "stream",
          "name": "stdout",
          "text": [
            "введите n 4\n",
            "81\n"
          ]
        }
      ],
      "source": [
        "n = int(input(\"введите n \"))\n",
        "a = 1\n",
        "for i in range(1, n + 1):\n",
        "  a *= 3\n",
        "print(a)"
      ]
    },
    {
      "cell_type": "markdown",
      "source": [
        "2 задание"
      ],
      "metadata": {
        "id": "DdOQe7gWNdv3"
      }
    },
    {
      "cell_type": "code",
      "source": [
        "name = input(\"как вас зовут? \")\n",
        "money = int(input(\"Ваша задолженность? \"))\n",
        "pay = int(input(\"Сколько внесете? \"))\n",
        "while (pay < money):\n",
        "  print(\"маловато, \" + name)\n",
        "  pay = int(input(\"Сколько внесете, \" + name + \"? \"))  \n",
        "print(\"достаточно, \" + name)"
      ],
      "metadata": {
        "colab": {
          "base_uri": "https://localhost:8080/"
        },
        "id": "fqHeS9i1NfVd",
        "outputId": "d715e547-4b7d-4377-9980-c5109ded6fa7"
      },
      "execution_count": null,
      "outputs": [
        {
          "output_type": "stream",
          "name": "stdout",
          "text": [
            "как вас зовут? Papa\n",
            "Ваша задолженность? 100\n",
            "Сколько внесете? 30\n",
            "маловато, Papa\n",
            "Сколько внесете, Papa? 101\n",
            "достаточно, Papa\n"
          ]
        }
      ]
    },
    {
      "cell_type": "markdown",
      "source": [
        "3 задание"
      ],
      "metadata": {
        "id": "9BBaifYKPFRo"
      }
    },
    {
      "cell_type": "code",
      "source": [
        "a = int(input(\"введите число \"))\n",
        "i = 0\n",
        "while a > 0:\n",
        "  a = int(a/10)\n",
        "  i += 1\n",
        "print(i)"
      ],
      "metadata": {
        "colab": {
          "base_uri": "https://localhost:8080/"
        },
        "id": "YRs2li7pPHT4",
        "outputId": "47a3275e-dbc5-44cf-b7b1-2be2af5b61d7"
      },
      "execution_count": null,
      "outputs": [
        {
          "output_type": "stream",
          "name": "stdout",
          "text": [
            "введите число 123456789\n",
            "9\n"
          ]
        }
      ]
    },
    {
      "cell_type": "markdown",
      "source": [
        "4 задание"
      ],
      "metadata": {
        "id": "K9t2gzJZP6Gf"
      }
    },
    {
      "cell_type": "code",
      "source": [
        "a  = 1\n",
        "i = 0\n",
        "while a != 0:\n",
        "  a = int(input(\"введите число \"))\n",
        "  if (a != 0 and a % 2 == 0):\n",
        "    i += 1\n",
        "print(i)\n"
      ],
      "metadata": {
        "colab": {
          "base_uri": "https://localhost:8080/"
        },
        "id": "37vEiJgNP7ZS",
        "outputId": "64e9fe34-3821-48f9-f53d-06ac5282f83e"
      },
      "execution_count": null,
      "outputs": [
        {
          "output_type": "stream",
          "name": "stdout",
          "text": [
            "введите число 2\n",
            "введите число 1\n",
            "введите число 6\n",
            "введите число 5\n",
            "введите число 4\n",
            "введите число 0\n",
            "3\n"
          ]
        }
      ]
    },
    {
      "cell_type": "markdown",
      "source": [
        "5 задание"
      ],
      "metadata": {
        "id": "jEz1vURERDBl"
      }
    },
    {
      "cell_type": "code",
      "source": [
        "a = int(input(\"введите число \"))\n",
        "sum1 = int(a/100000) + int(a/10000) % 10 + int(a/1000) % 10\n",
        "print(sum1)\n",
        "sum2 = (a % 10) + int((a % 100)/10) + int((a % 1000)/100)\n",
        "print(sum2)\n",
        "if (sum1 == sum2):\n",
        "  print(\"yes\")\n",
        "else:\n",
        "  print(\"no\")"
      ],
      "metadata": {
        "colab": {
          "base_uri": "https://localhost:8080/"
        },
        "id": "gfW9YoYiRD6d",
        "outputId": "72963918-1500-43ad-b356-a9d555b069ec"
      },
      "execution_count": null,
      "outputs": [
        {
          "output_type": "stream",
          "name": "stdout",
          "text": [
            "введите число 123456\n",
            "6\n",
            "15\n",
            "no\n"
          ]
        }
      ]
    },
    {
      "cell_type": "markdown",
      "source": [
        "6 задание"
      ],
      "metadata": {
        "id": "95EGDa6DTD70"
      }
    },
    {
      "cell_type": "code",
      "source": [
        "a  = 1\n",
        "ib = 0\n",
        "im = 0\n",
        "while a != 0:\n",
        "  a = int(input(\"введите число \"))\n",
        "  if (a > 0): ib += 1 \n",
        "  if (a < 0): im += 1 \n",
        "print(\"+ \", ib)\n",
        "print(\"- \", im)"
      ],
      "metadata": {
        "colab": {
          "base_uri": "https://localhost:8080/"
        },
        "id": "7K1S4wJQTFV0",
        "outputId": "8edcc2bf-6e13-42e3-f617-98beb8a50431"
      },
      "execution_count": null,
      "outputs": [
        {
          "output_type": "stream",
          "name": "stdout",
          "text": [
            "введите число -4\n",
            "введите число -90\n",
            "введите число 6\n",
            "введите число 0\n",
            "+  1\n",
            "-  2\n"
          ]
        }
      ]
    },
    {
      "cell_type": "markdown",
      "source": [
        "7 задание"
      ],
      "metadata": {
        "id": "E7PbT7pbUGmR"
      }
    },
    {
      "cell_type": "code",
      "source": [
        "print(\"начался рабочий день\")\n",
        "sumex = 0\n",
        "sumq = 0\n",
        "for i in range(1,9):\n",
        "  print(i,\" час\")\n",
        "  ex = int(input(\"сколько задач решит максим \"))\n",
        "  q = int(input(\"звонит жена ответить - 1 не отвечать - 0 \"))\n",
        "  sumex += ex\n",
        "  sumq += q\n",
        "print(\"решено задач \", sumex)\n",
        "if (sumq > 0): print(\"нужно зайти в магазин\")"
      ],
      "metadata": {
        "colab": {
          "base_uri": "https://localhost:8080/"
        },
        "id": "Hh9SO6Z2UIXp",
        "outputId": "dbac4834-5f35-4997-8769-476d03bbdc4f"
      },
      "execution_count": null,
      "outputs": [
        {
          "output_type": "stream",
          "name": "stdout",
          "text": [
            "начался рабочий день\n",
            "1  час\n",
            "сколько задач решит максим 1\n",
            "звонит жена ответить - 1 не отвечать - 0 0\n",
            "2  час\n",
            "сколько задач решит максим 2\n",
            "звонит жена ответить - 1 не отвечать - 0 0\n",
            "3  час\n",
            "сколько задач решит максим 3\n",
            "звонит жена ответить - 1 не отвечать - 0 0\n",
            "4  час\n",
            "сколько задач решит максим 4\n",
            "звонит жена ответить - 1 не отвечать - 0 0\n",
            "5  час\n",
            "сколько задач решит максим 5\n",
            "звонит жена ответить - 1 не отвечать - 0 0\n",
            "6  час\n",
            "сколько задач решит максим 6\n",
            "звонит жена ответить - 1 не отвечать - 0 0\n",
            "7  час\n",
            "сколько задач решит максим 7\n",
            "звонит жена ответить - 1 не отвечать - 0 0\n",
            "8  час\n",
            "сколько задач решит максим 8\n",
            "звонит жена ответить - 1 не отвечать - 0 0\n",
            "решено задач  36\n"
          ]
        }
      ]
    },
    {
      "cell_type": "markdown",
      "source": [
        "8 задание"
      ],
      "metadata": {
        "id": "3ZHl1qA_WdDW"
      }
    },
    {
      "cell_type": "code",
      "source": [
        "v = int(input(\"вклад: \"))\n",
        "p = int(input(\"проценты: \"))\n",
        "y = int(input(\"цель накопления: \"))\n",
        "k = (1+float(p/100))\n",
        "year = 0\n",
        "sum = v\n",
        "while(sum < y):\n",
        "  sum *= k\n",
        "  sum = int(sum)\n",
        "  year += 1\n",
        "print(year)"
      ],
      "metadata": {
        "colab": {
          "base_uri": "https://localhost:8080/"
        },
        "id": "sZgNpuwlWe7P",
        "outputId": "59808b2e-83a5-47af-a18f-cb90c8cfbe4a"
      },
      "execution_count": null,
      "outputs": [
        {
          "output_type": "stream",
          "name": "stdout",
          "text": [
            "вклад: 20\n",
            "проценты: 20\n",
            "цель накопления: 30\n",
            "3\n"
          ]
        }
      ]
    },
    {
      "cell_type": "markdown",
      "source": [
        "9 задание"
      ],
      "metadata": {
        "id": "-SF-M7a1Ye8a"
      }
    },
    {
      "cell_type": "code",
      "source": [
        "i = int(input(\"угадай число: \"))\n",
        "while i != 7:\n",
        "  print(\"не угадал( \")\n",
        "  i = int(input(\"угадай число: \"))\n",
        "print(\"угадал\")"
      ],
      "metadata": {
        "colab": {
          "base_uri": "https://localhost:8080/"
        },
        "id": "zX0KaFnMYn5c",
        "outputId": "6172ad38-b97b-4e67-db98-0f24ffac7d41"
      },
      "execution_count": null,
      "outputs": [
        {
          "output_type": "stream",
          "name": "stdout",
          "text": [
            "угадай число: 2\n",
            "не угадал( \n",
            "угадай число: 3\n",
            "не угадал( \n",
            "угадай число: 4\n",
            "не угадал( \n",
            "угадай число: 5\n",
            "не угадал( \n",
            "угадай число: 6\n",
            "не угадал( \n",
            "угадай число: 7\n",
            "угадал\n"
          ]
        }
      ]
    },
    {
      "cell_type": "markdown",
      "source": [
        "10 задание"
      ],
      "metadata": {
        "id": "aTX5pC_GZDeN"
      }
    },
    {
      "cell_type": "code",
      "source": [
        "dn = 50\n",
        "number = 50\n",
        "check = int(input(\"50?\\n1 — равно, 2 — больше, 3 — меньше \\n\"))\n",
        "while (check != 1):\n",
        "  dn = round(dn/2)\n",
        "  if (check == 2):\n",
        "    if (dn != 0): number += dn\n",
        "    else: number += 1\n",
        "  if (check == 3):\n",
        "    if (dn != 0): number -= dn\n",
        "    else: number -= 1\n",
        "  print(number, \"?\")\n",
        "  check = int(input(\"1 — равно, 2 — больше, 3 — меньше \"))"
      ],
      "metadata": {
        "id": "qaSw6EXaZErE",
        "colab": {
          "base_uri": "https://localhost:8080/"
        },
        "outputId": "122220ed-14b9-4194-be79-476f0089d63b"
      },
      "execution_count": 18,
      "outputs": [
        {
          "name": "stdout",
          "output_type": "stream",
          "text": [
            "50?\n",
            "1 — равно, 2 — больше, 3 — меньше \n",
            "2\n",
            "75 ?\n",
            "1 — равно, 2 — больше, 3 — меньше 2\n",
            "87 ?\n",
            "1 — равно, 2 — больше, 3 — меньше 2\n",
            "93 ?\n",
            "1 — равно, 2 — больше, 3 — меньше 2\n",
            "96 ?\n",
            "1 — равно, 2 — больше, 3 — меньше 2\n",
            "98 ?\n",
            "1 — равно, 2 — больше, 3 — меньше 2\n",
            "99 ?\n",
            "1 — равно, 2 — больше, 3 — меньше 1\n"
          ]
        }
      ]
    }
  ]
}