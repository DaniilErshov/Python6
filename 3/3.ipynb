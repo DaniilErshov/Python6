{
  "nbformat": 4,
  "nbformat_minor": 0,
  "metadata": {
    "colab": {
      "name": "Untitled11.ipynb",
      "provenance": [],
      "authorship_tag": "ABX9TyNkQ18RTkj2B53rhr1YMLuc",
      "include_colab_link": true
    },
    "kernelspec": {
      "name": "python3",
      "display_name": "Python 3"
    },
    "language_info": {
      "name": "python"
    }
  },
  "cells": [
    {
      "cell_type": "markdown",
      "metadata": {
        "id": "view-in-github",
        "colab_type": "text"
      },
      "source": [
        "<a href=\"https://colab.research.google.com/github/DaniilErshov/Python6/blob/main/3.ipynb\" target=\"_parent\"><img src=\"https://colab.research.google.com/assets/colab-badge.svg\" alt=\"Open In Colab\"/></a>"
      ]
    },
    {
      "cell_type": "markdown",
      "source": [
        "1 задание"
      ],
      "metadata": {
        "id": "VIJmBp3iRIxV"
      }
    },
    {
      "cell_type": "code",
      "execution_count": 10,
      "metadata": {
        "colab": {
          "base_uri": "https://localhost:8080/"
        },
        "id": "DajM8zMzQbH2",
        "outputId": "da36acad-0e63-47ce-9532-86bf992d7666"
      },
      "outputs": [
        {
          "name": "stdout",
          "output_type": "stream",
          "text": [
            "введите 0 или 1: 0\n"
          ]
        }
      ],
      "source": [
        "a = bool(int(input(\"введите 0 или 1: \")))\n",
        "if a:\n",
        "  print(\"Пошёл дождь. Возьмите зонтик!\");"
      ]
    },
    {
      "cell_type": "markdown",
      "source": [
        "2 задание"
      ],
      "metadata": {
        "id": "s0bqwVA2RNLA"
      }
    },
    {
      "cell_type": "code",
      "source": [
        "math = int(input(\"колво баллов по математике: \"))\n",
        "phys = int(input(\"колво баллов по физике: \"))\n",
        "rus = int(input(\"колво баллов по русскому: \"))\n",
        "if (math + phys + rus) >= 270:\n",
        "  print(\"ура\")\n",
        "else:\n",
        "  print(\"не ура\") \n"
      ],
      "metadata": {
        "colab": {
          "base_uri": "https://localhost:8080/"
        },
        "id": "tKADT9R7RQF0",
        "outputId": "e14c9365-883d-488c-83ba-c460240ce432"
      },
      "execution_count": 11,
      "outputs": [
        {
          "output_type": "stream",
          "name": "stdout",
          "text": [
            "колво баллов по математике: 90\n",
            "колво баллов по физике: 90\n",
            "колво баллов по русскому: 90\n",
            "ура\n"
          ]
        }
      ]
    },
    {
      "cell_type": "markdown",
      "source": [
        "3 задание\n"
      ],
      "metadata": {
        "id": "uV796KpBR7mY"
      }
    },
    {
      "cell_type": "code",
      "source": [
        "if int(input(\"введите число: \")) % 2 == 0:\n",
        "  print(\"используй зубную нить\")"
      ],
      "metadata": {
        "colab": {
          "base_uri": "https://localhost:8080/"
        },
        "id": "2rMC6APPR86K",
        "outputId": "4aa8e531-412b-4f71-8d49-7c6119468051"
      },
      "execution_count": 14,
      "outputs": [
        {
          "output_type": "stream",
          "name": "stdout",
          "text": [
            "введите число: 2\n",
            "используй зубную нить\n"
          ]
        }
      ]
    },
    {
      "cell_type": "markdown",
      "source": [
        "4 задание"
      ],
      "metadata": {
        "id": "GA-qAt9DSxIo"
      }
    },
    {
      "cell_type": "code",
      "source": [
        "price1 = int(input(\"цена первого стула: \"))\n",
        "price2 = int(input(\"цена второго стула: \"))\n",
        "price3 = int(input(\"цена третьего стула: \"))\n",
        "sum = price1 + price2 + price3\n",
        "if (sum) > 10000:\n",
        "  print(\"итоговая стоимость:\", float(sum*0.9))\n",
        "else:\n",
        "  print(\"итоговая стоимость:\", sum)"
      ],
      "metadata": {
        "colab": {
          "base_uri": "https://localhost:8080/"
        },
        "id": "qp-C7kxiSybr",
        "outputId": "58f54ba6-f06f-482a-fe85-31582dabf609"
      },
      "execution_count": 16,
      "outputs": [
        {
          "output_type": "stream",
          "name": "stdout",
          "text": [
            "цена первого стула: 5000\n",
            "цена второго стула: 6000\n",
            "цена третьего стула: 7000\n",
            "итоговая стоимость: 16200.0\n"
          ]
        }
      ]
    },
    {
      "cell_type": "markdown",
      "source": [
        "5 задание"
      ],
      "metadata": {
        "id": "GMUGGqEzTxEC"
      }
    },
    {
      "cell_type": "code",
      "source": [
        "numb = int(input(\"число \"))\n",
        "if numb >= 0:\n",
        "  print(\"модуль равен =\", numb)\n",
        "else:\n",
        "  print(\"модуль равен =\", -numb)\n"
      ],
      "metadata": {
        "colab": {
          "base_uri": "https://localhost:8080/"
        },
        "id": "qpyiuu6aTyTS",
        "outputId": "817ca4f5-6d5b-48d2-f81e-a8b3a9bf3909"
      },
      "execution_count": 17,
      "outputs": [
        {
          "output_type": "stream",
          "name": "stdout",
          "text": [
            "число -5\n",
            "модуль равен = 5\n"
          ]
        }
      ]
    },
    {
      "cell_type": "markdown",
      "source": [
        "6 задание"
      ],
      "metadata": {
        "id": "0QqOr7W1UOqE"
      }
    },
    {
      "cell_type": "code",
      "source": [
        "a = int(input(\"число первое : \"))\n",
        "b = int(input(\"число второе : \"))\n",
        "if a - b >= 0:\n",
        "  print(a-b)\n",
        "  print(\"Костя платит\")\n",
        "else:\n",
        "  print(a+b)\n",
        "  print(\"Владелец платит\")"
      ],
      "metadata": {
        "colab": {
          "base_uri": "https://localhost:8080/"
        },
        "id": "P62MrZ80UQAC",
        "outputId": "a016c5e5-d6c5-4426-f20f-c005bcc75ba8"
      },
      "execution_count": 18,
      "outputs": [
        {
          "output_type": "stream",
          "name": "stdout",
          "text": [
            "число первое : 6\n",
            "число второе : 2\n",
            "4\n",
            "Костя платит\n"
          ]
        }
      ]
    },
    {
      "cell_type": "markdown",
      "source": [
        "7 задание"
      ],
      "metadata": {
        "id": "E4LFPYGPVIIO"
      }
    },
    {
      "cell_type": "code",
      "source": [
        "a = int(input(\"введите сумму, которую желаете снять : \"))\n",
        "if a % 100 == 0:\n",
        "  print(\"Операция выполняется\")\n",
        "else:\n",
        "  print(\"Введите другую сумму или найдите другой банкомат\")"
      ],
      "metadata": {
        "colab": {
          "base_uri": "https://localhost:8080/"
        },
        "id": "E36SjIHMVJf6",
        "outputId": "7fce8cba-7c58-4aae-f156-b228817bf8fb"
      },
      "execution_count": 21,
      "outputs": [
        {
          "output_type": "stream",
          "name": "stdout",
          "text": [
            "введите сумму, которую желаете снять : 150\n",
            "Введите другую сумму или найдите другой банкомат\n"
          ]
        }
      ]
    },
    {
      "cell_type": "markdown",
      "source": [
        "8 задание\n"
      ],
      "metadata": {
        "id": "Lx_rFmyMVjIn"
      }
    },
    {
      "cell_type": "code",
      "source": [
        "hours = int(input(\"введите часы: \"))\n",
        "money = float(input(\"Введите остаток по кредиту: \"))\n",
        "food = float(input(\"Сколько денег нужно на еду: \"))\n",
        "earn = float(200*hours/(2**3))\n",
        "if earn >= money + food:\n",
        "  print(\"Можно не работать\")\n",
        "else:\n",
        "  print(\"Нужно работать\")"
      ],
      "metadata": {
        "colab": {
          "base_uri": "https://localhost:8080/"
        },
        "id": "vsWWWnJzVj8F",
        "outputId": "d364517e-b1a5-4773-9f0d-8a49da3f63a4"
      },
      "execution_count": 27,
      "outputs": [
        {
          "output_type": "stream",
          "name": "stdout",
          "text": [
            "введите часы: 33\n",
            "Введите остаток по кредиту: 255.5\n",
            "Сколько денег нужно на еду: 364.4\n",
            "Можно не работать\n"
          ]
        }
      ]
    },
    {
      "cell_type": "markdown",
      "source": [
        "9 задание"
      ],
      "metadata": {
        "id": "NTzZZz8lW5sc"
      }
    },
    {
      "cell_type": "code",
      "source": [
        "prbg = int(input(\"введите число пробега: \"))\n",
        "day = int(input(\"введите число дня: \"))\n",
        "sum = int(prbg/100) + prbg % 10 + int((prbg % 100)/10)\n",
        "if (sum > day):\n",
        "  print(\"Сброс\")\n",
        "  prbg = 0\n",
        "  print(prbg)\n",
        "else:\n",
        "  print(\"Сегодня не сломался\")\n",
        "  print(prbg)"
      ],
      "metadata": {
        "colab": {
          "base_uri": "https://localhost:8080/"
        },
        "id": "oaoJ-hOlW1wG",
        "outputId": "5d3b26ac-2f36-4f48-c839-029f0b5f5f18"
      },
      "execution_count": 31,
      "outputs": [
        {
          "output_type": "stream",
          "name": "stdout",
          "text": [
            "введите число пробега: 123\n",
            "введите число дня: 10\n",
            "Сегодня не сломался\n",
            "123\n"
          ]
        }
      ]
    },
    {
      "cell_type": "markdown",
      "source": [
        "10 задание\n"
      ],
      "metadata": {
        "id": "KNoL_K_-YdPK"
      }
    },
    {
      "cell_type": "code",
      "source": [
        "a = int(input(\"введите первое число \"))\n",
        "b = int(input(\"введите второе число \"))\n",
        "c = int(input(\"введите третье число \"))\n",
        "if a >= b:\n",
        "  big = a\n",
        "else:\n",
        "  big = b\n",
        "if c >= big:\n",
        "  big = c\n",
        "print(big)"
      ],
      "metadata": {
        "colab": {
          "base_uri": "https://localhost:8080/"
        },
        "id": "cukgCAaBYfRq",
        "outputId": "d299bbb8-4976-460e-eeb2-778cfd2b6197"
      },
      "execution_count": 37,
      "outputs": [
        {
          "output_type": "stream",
          "name": "stdout",
          "text": [
            "введите первое число 1\n",
            "введите второе число 2\n",
            "введите третье число 3\n",
            "3\n"
          ]
        }
      ]
    }
  ]
}
