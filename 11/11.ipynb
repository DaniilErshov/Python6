{
  "nbformat": 4,
  "nbformat_minor": 0,
  "metadata": {
    "colab": {
      "name": "Untitled20.ipynb",
      "provenance": [],
      "authorship_tag": "ABX9TyO/JJfX+X/kbpR+eySNtcN5",
      "include_colab_link": true
    },
    "kernelspec": {
      "name": "python3",
      "display_name": "Python 3"
    },
    "language_info": {
      "name": "python"
    }
  },
  "cells": [
    {
      "cell_type": "markdown",
      "metadata": {
        "id": "view-in-github",
        "colab_type": "text"
      },
      "source": [
        "<a href=\"https://colab.research.google.com/github/DaniilErshov/Python6/blob/main/11.ipynb\" target=\"_parent\"><img src=\"https://colab.research.google.com/assets/colab-badge.svg\" alt=\"Open In Colab\"/></a>"
      ]
    },
    {
      "cell_type": "code",
      "execution_count": 16,
      "metadata": {
        "colab": {
          "base_uri": "https://localhost:8080/"
        },
        "id": "FCQ5STEgiVj8",
        "outputId": "225cdf15-6758-4145-f399-1c4266a6e428"
      },
      "outputs": [
        {
          "output_type": "stream",
          "name": "stdout",
          "text": [
            "file = name.txt\n",
            "good\n"
          ]
        }
      ],
      "source": [
        "special_symbols = \"@№$%^&*)(.\"\n",
        "name_file = input(\"file = \")\n",
        "k = 1\n",
        "if name_file[0] in special_symbols and len(name_file) <= 5: k = 0\n",
        "elif ((name_file.rfind(\".txt\") == len(name_file) - 4 and len(name_file) > 4 ) or (name_file.rfind(\".docx\") == len(name_file) - 5)) and k != 0:\n",
        " k = 1\n",
        "else:\n",
        " k = 0\n",
        "if k == 1: print(\"good\")\n",
        "else: print(\"bad\")"
      ]
    }
  ]
}
