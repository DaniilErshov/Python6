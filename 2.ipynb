{
  "nbformat": 4,
  "nbformat_minor": 0,
  "metadata": {
    "colab": {
      "name": "Untitled10.ipynb",
      "provenance": [],
      "authorship_tag": "ABX9TyNSMmsOvQ+spfsGL1LteMnh",
      "include_colab_link": true
    },
    "kernelspec": {
      "name": "python3",
      "display_name": "Python 3"
    },
    "language_info": {
      "name": "python"
    }
  },
  "cells": [
    {
      "cell_type": "markdown",
      "metadata": {
        "id": "view-in-github",
        "colab_type": "text"
      },
      "source": [
        "<a href=\"https://colab.research.google.com/github/DaniilErshov/Python6/blob/main/2.ipynb\" target=\"_parent\"><img src=\"https://colab.research.google.com/assets/colab-badge.svg\" alt=\"Open In Colab\"/></a>"
      ]
    },
    {
      "cell_type": "markdown",
      "source": [
        "1 задание"
      ],
      "metadata": {
        "id": "Wg_xqZ0NF2yl"
      }
    },
    {
      "cell_type": "code",
      "execution_count": 2,
      "metadata": {
        "colab": {
          "base_uri": "https://localhost:8080/"
        },
        "id": "EZBBScI_FAwG",
        "outputId": "498a60dd-211a-4b4d-fb61-294d5ab79dec"
      },
      "outputs": [
        {
          "output_type": "execute_result",
          "data": {
            "text/plain": [
              "-25.083333333333332"
            ]
          },
          "metadata": {},
          "execution_count": 2
        }
      ],
      "source": [
        "a = 8\n",
        "b = 10\n",
        "c = 12\n",
        "d = 18\n",
        "res = ((-3+a**2)*b-2**3)/(c-2*d)\n",
        "res"
      ]
    },
    {
      "cell_type": "markdown",
      "source": [
        "2 задание"
      ],
      "metadata": {
        "id": "yzqkvNMZGb9r"
      }
    },
    {
      "cell_type": "code",
      "source": [
        "a = int(input(\"введите 1 число: \"))\n",
        "b = int(input(\"введите 2 число: \"))\n",
        "c = int(input(\"введите 3 число: \"))\n",
        "d = int(input(\"введите 4 число: \"))\n",
        "print(float((a+b)/(c+d)))"
      ],
      "metadata": {
        "colab": {
          "base_uri": "https://localhost:8080/"
        },
        "id": "n_vSarRjFHeH",
        "outputId": "e567c4b0-fbb4-4552-9e50-b050e74f1e37"
      },
      "execution_count": 11,
      "outputs": [
        {
          "output_type": "stream",
          "name": "stdout",
          "text": [
            "введите 1 число: 1\n",
            "введите 2 число: 2\n",
            "введите 3 число: 3\n",
            "введите 4 число: 1\n",
            "0.75\n"
          ]
        }
      ]
    },
    {
      "cell_type": "markdown",
      "source": [
        "3 задание"
      ],
      "metadata": {
        "id": "Vken-UH6IrGD"
      }
    },
    {
      "cell_type": "code",
      "source": [
        "cur = int(input(\"введите число: \"))\n",
        "print(\"после числа\", cur, \"идет число\", cur+1)\n",
        "print(\"до числа\", cur, \"идет число\", cur-1)"
      ],
      "metadata": {
        "colab": {
          "base_uri": "https://localhost:8080/"
        },
        "id": "2pZ_77n_Itx_",
        "outputId": "ea635082-5bfa-43c9-8f71-aa5269ea900f"
      },
      "execution_count": 9,
      "outputs": [
        {
          "output_type": "stream",
          "name": "stdout",
          "text": [
            "введите число: 5\n",
            "после числа 5 идет число 6\n",
            "до числа 5 идет число 4\n"
          ]
        }
      ]
    },
    {
      "cell_type": "markdown",
      "source": [
        "4 задание\n"
      ],
      "metadata": {
        "id": "hv1q-1sUKCkq"
      }
    },
    {
      "cell_type": "code",
      "source": [
        "a = float(input(\"введите первый катет:\"))\n",
        "b = float(input(\"введите второй катет:\"))\n",
        "print(\"площадь равна:\", a*b/2)\n"
      ],
      "metadata": {
        "colab": {
          "base_uri": "https://localhost:8080/"
        },
        "id": "vLRrL9zOJUTo",
        "outputId": "2716d2c4-c3c7-434d-e8f0-b2d90bbfefd0"
      },
      "execution_count": 10,
      "outputs": [
        {
          "output_type": "stream",
          "name": "stdout",
          "text": [
            "введите первый катет:1.5\n",
            "введите второй катет:2.4\n",
            "площадь равна: 1.7999999999999998\n"
          ]
        }
      ]
    },
    {
      "cell_type": "markdown",
      "source": [
        "5 задание"
      ],
      "metadata": {
        "id": "Al-WtXqGKHkZ"
      }
    },
    {
      "cell_type": "code",
      "source": [
        "a = int(input(\"кол-во минут:\"))\n",
        "print(\"колво часов:\", int(a/60))\n",
        "print(\"колво минут:\", a - 60*int(a/60))"
      ],
      "metadata": {
        "colab": {
          "base_uri": "https://localhost:8080/"
        },
        "id": "thm98el0KGoS",
        "outputId": "fca95c19-bf5a-4b0a-bf42-e7fe5db5d066"
      },
      "execution_count": 13,
      "outputs": [
        {
          "output_type": "stream",
          "name": "stdout",
          "text": [
            "кол-во минут:61\n",
            "колво часов: 1\n",
            "колво минут: 1\n"
          ]
        }
      ]
    },
    {
      "cell_type": "markdown",
      "source": [
        "6 задание"
      ],
      "metadata": {
        "id": "6_Rdxfw4K7Lq"
      }
    },
    {
      "cell_type": "code",
      "source": [
        "a = int(input(\"введите 1 число: \"))\n",
        "b = int(input(\"введите 2 число: \"))\n",
        "res = ((a - 100*int(a/100))) + (b - 100*int(b/100))\n",
        "\n",
        "print(\"последние 2 разряда =\", res - int(res/100)*100)"
      ],
      "metadata": {
        "colab": {
          "base_uri": "https://localhost:8080/"
        },
        "id": "_QvTxPmhK9R_",
        "outputId": "745e593d-3f26-488b-e66b-a845ca7286c6"
      },
      "execution_count": 17,
      "outputs": [
        {
          "output_type": "stream",
          "name": "stdout",
          "text": [
            "введите 1 число: 160\n",
            "введите 2 число: 250\n",
            "последние 2 разряда = 10\n"
          ]
        }
      ]
    },
    {
      "cell_type": "markdown",
      "source": [
        "7 задание \n"
      ],
      "metadata": {
        "id": "QhIMHsDqMctL"
      }
    },
    {
      "cell_type": "code",
      "source": [
        "v = int(input(\"введите скорость: \"))\n",
        "t = int(input(\"введите время: \"))\n",
        "print(\"отметка:\", v*t - int(v*t/115)*115)"
      ],
      "metadata": {
        "colab": {
          "base_uri": "https://localhost:8080/"
        },
        "id": "dIuBCCQ0MeJB",
        "outputId": "e2d82daf-b20c-4f1f-9c67-a7f5dbabfca6"
      },
      "execution_count": 20,
      "outputs": [
        {
          "output_type": "stream",
          "name": "stdout",
          "text": [
            "введите скорость: 115\n",
            "введите время: 1\n",
            "отметка: 0\n"
          ]
        }
      ]
    },
    {
      "cell_type": "markdown",
      "source": [
        "8 задание"
      ],
      "metadata": {
        "id": "D1mHqaOkNLxr"
      }
    },
    {
      "cell_type": "code",
      "source": [
        "a = int(input(\"введите 4 значное число: \"))\n",
        "print(int(a/1000), int(a/100) - int(a/1000)*10,  int(a/10) - int(a/100)*10, a % 10)"
      ],
      "metadata": {
        "colab": {
          "base_uri": "https://localhost:8080/"
        },
        "id": "rdpw1i2FNNiD",
        "outputId": "e88c1cfd-c8f8-4888-efcf-4e4e2cd4b91a"
      },
      "execution_count": 24,
      "outputs": [
        {
          "output_type": "stream",
          "name": "stdout",
          "text": [
            "введите 4 значное число: 6582\n",
            "6 5 8 2\n"
          ]
        }
      ]
    },
    {
      "cell_type": "markdown",
      "source": [
        "9 задание"
      ],
      "metadata": {
        "id": "ADlzLEQjO8Lz"
      }
    },
    {
      "cell_type": "code",
      "source": [
        "a = int(input(\"введите 4 значное число: \"))\n",
        "print(a % 10, int(a/10) - int(a/100)*10, int(a/100) - int(a/1000)*10, int(a/1000))"
      ],
      "metadata": {
        "colab": {
          "base_uri": "https://localhost:8080/"
        },
        "id": "Vj_b3WU4Osu0",
        "outputId": "85d55cfe-935e-41c6-a59e-6fd7977cf0e2"
      },
      "execution_count": 25,
      "outputs": [
        {
          "output_type": "stream",
          "name": "stdout",
          "text": [
            "введите 4 значное число: 6582\n",
            "2 8 5 6\n"
          ]
        }
      ]
    },
    {
      "cell_type": "markdown",
      "source": [
        "10 задание"
      ],
      "metadata": {
        "id": "-WmAisL1PSNh"
      }
    },
    {
      "cell_type": "code",
      "source": [
        "a = int(input('Введите первое число: '))\n",
        "b = int(input('Введите второе число: '))\n",
        "print(a, b)\n",
        "a = a + b\n",
        "b = a - b\n",
        "a = a - b\n",
        "print(a, b)\n"
      ],
      "metadata": {
        "colab": {
          "base_uri": "https://localhost:8080/"
        },
        "id": "OsQh2FoXPUo9",
        "outputId": "3fdf128e-795e-4d58-f579-bd14f25c684f"
      },
      "execution_count": 29,
      "outputs": [
        {
          "output_type": "stream",
          "name": "stdout",
          "text": [
            "Введите первое число: 5\n",
            "Введите второе число: 2\n",
            "5 2\n",
            "2 5\n"
          ]
        }
      ]
    },
    {
      "cell_type": "code",
      "source": [
        ""
      ],
      "metadata": {
        "id": "fgNt1P6dQG8f"
      },
      "execution_count": null,
      "outputs": []
    }
  ]
}