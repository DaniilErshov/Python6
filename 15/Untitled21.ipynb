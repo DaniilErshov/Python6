{
  "nbformat": 4,
  "nbformat_minor": 0,
  "metadata": {
    "colab": {
      "name": "Untitled21.ipynb",
      "provenance": [],
      "collapsed_sections": [],
      "authorship_tag": "ABX9TyO/WvwOM5qIiIglRmFuZy8M",
      "include_colab_link": true
    },
    "kernelspec": {
      "name": "python3",
      "display_name": "Python 3"
    },
    "language_info": {
      "name": "python"
    }
  },
  "cells": [
    {
      "cell_type": "markdown",
      "metadata": {
        "id": "view-in-github",
        "colab_type": "text"
      },
      "source": [
        "<a href=\"https://colab.research.google.com/github/DaniilErshov/Python6/blob/main/15/Untitled21.ipynb\" target=\"_parent\"><img src=\"https://colab.research.google.com/assets/colab-badge.svg\" alt=\"Open In Colab\"/></a>"
      ]
    },
    {
      "cell_type": "markdown",
      "source": [
        "2 задание"
      ],
      "metadata": {
        "id": "-2n3TPeYKrpP"
      }
    },
    {
      "cell_type": "code",
      "execution_count": null,
      "metadata": {
        "colab": {
          "base_uri": "https://localhost:8080/"
        },
        "id": "mt15swNGKq7-",
        "outputId": "91266dc0-05ff-4631-ddef-a46ca007e892"
      },
      "outputs": [
        {
          "output_type": "stream",
          "name": "stdout",
          "text": [
            "[3, 4, 6]\n",
            "[2, 3, 5, 7]\n"
          ]
        }
      ],
      "source": [
        "def isPrime(k):\n",
        "    if k == 2 or k == 3: return True\n",
        "    if k % 2 == 0 or k < 2: return False\n",
        "    for i in range(3, int(k**0.5) + 1, 2):\n",
        "        if k % i == 0:\n",
        "            return False\n",
        "    return True\n",
        "  \n",
        "def simple_index(iterable_object):\n",
        "  return [v for i, v in enumerate(iterable_object) if isPrime(i)]\n",
        "\n",
        "slovar = {1: \"1\", 2: \"2\", 3: \"3\", 4: \"4\", 5: \"5\", 6: \"6\", 7: \"7\"}\n",
        "\n",
        "print(simple_index(slovar))\n",
        "print(simple_index([0, 1, 2, 3, 4, 5, 6, 7, 8, 9, 10]))"
      ]
    },
    {
      "cell_type": "markdown",
      "source": [
        "3 задание"
      ],
      "metadata": {
        "id": "oIWXI-3IRRwV"
      }
    },
    {
      "cell_type": "code",
      "source": [
        "def my_slice(iterable_obj, elem):\n",
        "  number = iterable_obj.count(elem)\n",
        "  if number == 0:\n",
        "    return tuple()\n",
        "  else:\n",
        "    start = iterable_obj.index(elem)\n",
        "    if number == 1:\n",
        "      return iterable_obj[iterable_obj.index(elem):]\n",
        "    else:\n",
        "      stop = iterable_obj.index(elem, start + 1)\n",
        "      return iterable_obj[start: stop + 1]\n",
        "\n",
        "a = tuple('helo, world!')\n",
        "print(my_slice(a,\"l\"))"
      ],
      "metadata": {
        "colab": {
          "base_uri": "https://localhost:8080/"
        },
        "id": "KUOvvnwXQ9Sm",
        "outputId": "09a344f5-9703-4a58-ab56-c3e7bf20e67b"
      },
      "execution_count": null,
      "outputs": [
        {
          "output_type": "stream",
          "name": "stdout",
          "text": [
            "('l', 'o', ',', ' ', 'w', 'o', 'r', 'l')\n"
          ]
        }
      ]
    },
    {
      "cell_type": "markdown",
      "source": [
        "4 задание"
      ],
      "metadata": {
        "id": "9TXqhj3RXvaA"
      }
    },
    {
      "cell_type": "code",
      "source": [
        "players = {\n",
        "    (\"Ivan\", \"Volkin\"): (10, 5, 13),\n",
        "    (\"Bob\", \"Robbin\"): (7, 5, 14),\n",
        "    (\"Rob\", \"Bobbin\"): (12, 8, 2)\n",
        "}\n",
        "lst = [key + value for key, value in players.items()]\n",
        "print(lst)\n"
      ],
      "metadata": {
        "colab": {
          "base_uri": "https://localhost:8080/"
        },
        "id": "ahLExcb4XXxY",
        "outputId": "2e92f90f-92a4-4f57-e3dd-8b3aa78c948c"
      },
      "execution_count": null,
      "outputs": [
        {
          "output_type": "stream",
          "name": "stdout",
          "text": [
            "[('Ivan', 'Volkin', 10, 5, 13), ('Bob', 'Robbin', 7, 5, 14), ('Rob', 'Bobbin', 12, 8, 2)]\n"
          ]
        }
      ]
    },
    {
      "cell_type": "markdown",
      "source": [
        "5 задание"
      ],
      "metadata": {
        "id": "tykoLV3Xck_D"
      }
    },
    {
      "cell_type": "code",
      "source": [
        "players = {\n",
        "    (\"Ivan\", \"Volkin\"): 10,\n",
        "    (\"Bob\", \"Bobbin\"): 20,\n",
        "    (\"Rob\", \"Bobbin\"): 30,\n",
        "    (\"Vitya\", \"Volkina\"): 10,\n",
        "    (\"Sasha\", \"Volkina\"): 5\n",
        "}\n",
        "surname = input(\"surname = \").lower()\n",
        "for key, value in players.items():\n",
        "  tmp_surname = key[1].lower()\n",
        "  if (surname[-1] == \"a\") and (tmp_surname == surname or tmp_surname == surname[:-1]):\n",
        "      print(key, players[key])\n",
        "  elif tmp_surname[:-1] == surname or tmp_surname == surname:\n",
        "      print(key, players[key])\n",
        "\n"
      ],
      "metadata": {
        "colab": {
          "base_uri": "https://localhost:8080/"
        },
        "id": "ukd94LEIcma2",
        "outputId": "c58ca816-cc87-4010-83c3-a867c1291e4d"
      },
      "execution_count": null,
      "outputs": [
        {
          "output_type": "stream",
          "name": "stdout",
          "text": [
            "surname = Volkin\n",
            "('Ivan', 'Volkin') 10\n",
            "('Vitya', 'Volkina') 10\n",
            "('Sasha', 'Volkina') 5\n"
          ]
        }
      ]
    },
    {
      "cell_type": "markdown",
      "source": [
        "6 задание"
      ],
      "metadata": {
        "id": "55R5W4N9g51X"
      }
    },
    {
      "cell_type": "code",
      "source": [
        "a = [0, 1, 2, 3, 4, 5, 6, 7, 8, 9]\n",
        "b = list()\n",
        "for i in range(0,10,2):\n",
        "  b.append((a[i], a[i+1]))\n",
        "print(b)"
      ],
      "metadata": {
        "colab": {
          "base_uri": "https://localhost:8080/"
        },
        "id": "eRCAA4IhhMit",
        "outputId": "ffeed4d6-13d6-4efd-90e6-9fa2e65ca615"
      },
      "execution_count": null,
      "outputs": [
        {
          "output_type": "stream",
          "name": "stdout",
          "text": [
            "[(0, 1), (2, 3), (4, 5), (6, 7), (8, 9)]\n"
          ]
        }
      ]
    },
    {
      "cell_type": "markdown",
      "source": [
        "7 задание"
      ],
      "metadata": {
        "id": "ronZwHT6h31Y"
      }
    },
    {
      "cell_type": "code",
      "source": [
        "def isCeloe(elem):\n",
        "  return True if type(elem) == int else False\n",
        "def My_sort(old_tuple):\n",
        "  for i in old_tuple:\n",
        "    if not isCeloe(i):\n",
        "      return old_tuple\n",
        "  return tuple(sorted(old_tuple))\n",
        "\n",
        "a = (10, 5, 13, 2, 8, 5, 2, 3)\n",
        "a = My_sort(a)\n",
        "print(a)"
      ],
      "metadata": {
        "colab": {
          "base_uri": "https://localhost:8080/"
        },
        "id": "ER878cBcg7rr",
        "outputId": "a2104282-9082-4b76-9d8f-e6a62c28c124"
      },
      "execution_count": null,
      "outputs": [
        {
          "output_type": "stream",
          "name": "stdout",
          "text": [
            "(2, 2, 3, 5, 5, 8, 10, 13)\n"
          ]
        }
      ]
    },
    {
      "cell_type": "markdown",
      "source": [
        "8 задание"
      ],
      "metadata": {
        "id": "JvTlZDtVj_W8"
      }
    },
    {
      "cell_type": "code",
      "source": [
        "s = str()\n",
        "contacts = dict()\n",
        "while s != \"goodbye\":\n",
        "  s = input(\"what to do you want? \")\n",
        "  if s == \"add contact\":\n",
        "    name = input(\"name  = \")\n",
        "    surname = input(\"surname = \")\n",
        "    number = input(\"number = \")\n",
        "    person = (name, surname)\n",
        "    if person in contacts.keys():\n",
        "      print(\"this contact exists\")\n",
        "    else:\n",
        "      contacts[person] = number\n",
        "  elif s == \"find person\":\n",
        "    surname = input(\"surname = \").lower()\n",
        "    for person in contacts.keys():\n",
        "      if person[1].lower() == surname:\n",
        "        print(person, contacts[person])\n",
        "  elif s != \"goodbye\":\n",
        "    print(\"try again\")\n",
        "\n"
      ],
      "metadata": {
        "id": "9Ja4BDeakAsq",
        "colab": {
          "base_uri": "https://localhost:8080/"
        },
        "outputId": "99f6614b-4422-4231-b72d-d57848c0cb8b"
      },
      "execution_count": null,
      "outputs": [
        {
          "output_type": "stream",
          "name": "stdout",
          "text": [
            "what to do you want? add contact\n",
            "name  = Daniil\n",
            "surname = Ershov\n",
            "number = 228\n",
            "what to do you want? add contact\n",
            "name  = Miike\n",
            "surname = Ershov\n",
            "number = 123\n",
            "what to do you want? add comtact\n",
            "try again\n",
            "what to do you want? Bob\n",
            "try again\n",
            "what to do you want? add contact\n",
            "name  = Bob\n",
            "surname = Bobov\n",
            "number = 157\n",
            "what to do you want? find person\n",
            "surname = Ershov\n",
            "('Daniil', 'Ershov') 228\n",
            "('Miike', 'Ershov') 123\n",
            "what to do you want? find person\n",
            "surname = Bobov\n",
            "('Bob', 'Bobov') 157\n",
            "what to do you want? goodbye\n",
            "try again\n"
          ]
        }
      ]
    },
    {
      "cell_type": "markdown",
      "source": [
        "9 задание"
      ],
      "metadata": {
        "id": "zU8Sf45xJ8Vl"
      }
    },
    {
      "cell_type": "code",
      "source": [
        "import functools\n",
        "\n",
        "def help_sort(max_one, max_two):\n",
        "  if max_one[0] == max_two[0]:\n",
        "    return max_two[1] - max_one[1]\n",
        "  else:\n",
        "    if max_one[0] > max_two[0]:\n",
        "      return -1\n",
        "    else:\n",
        "      return  1\n",
        "  \n",
        "\n",
        "table = dict()\n",
        "n = int(input(\"n = \"))\n",
        "max = [[0, 0, \"name\"],\n",
        "       [0, 0, \"name\"],\n",
        "       [0, 0, \"name\"]]\n",
        "       \n",
        "for i in range(n):\n",
        "  s = input(\"result = \")\n",
        "  result = s.split()\n",
        "  result[0] = int(result[0])\n",
        "  if result[1] in table.keys(): table[result[1]] += 1\n",
        "  else: table[result[1]] = 1\n",
        "\n",
        "  result.insert(1, table[result[1]])\n",
        "  print(result)\n",
        "  max.append(result)\n",
        "  max.sort(key=functools.cmp_to_key(help_sort))\n",
        "  max.pop()\n",
        "print(max)"
      ],
      "metadata": {
        "id": "nM53v7UrJ_he"
      },
      "execution_count": null,
      "outputs": []
    }
  ]
}