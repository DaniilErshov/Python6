{
  "nbformat": 4,
  "nbformat_minor": 0,
  "metadata": {
    "colab": {
      "name": "Untitled19.ipynb",
      "provenance": [],
      "authorship_tag": "ABX9TyNQ588i61Aeb8+o+hJbJDbh",
      "include_colab_link": true
    },
    "kernelspec": {
      "name": "python3",
      "display_name": "Python 3"
    },
    "language_info": {
      "name": "python"
    }
  },
  "cells": [
    {
      "cell_type": "markdown",
      "metadata": {
        "id": "view-in-github",
        "colab_type": "text"
      },
      "source": [
        "<a href=\"https://colab.research.google.com/github/DaniilErshov/Python6/blob/main/13.ipynb\" target=\"_parent\"><img src=\"https://colab.research.google.com/assets/colab-badge.svg\" alt=\"Open In Colab\"/></a>"
      ]
    },
    {
      "cell_type": "markdown",
      "source": [
        "5 задача"
      ],
      "metadata": {
        "id": "X-TlpGPcVzLN"
      }
    },
    {
      "cell_type": "code",
      "execution_count": 14,
      "metadata": {
        "colab": {
          "base_uri": "https://localhost:8080/"
        },
        "id": "QpgW798fVuJI",
        "outputId": "5b98628e-32ae-4c81-ff66-671702e68ce9"
      },
      "outputs": [
        {
          "output_type": "stream",
          "name": "stdout",
          "text": [
            "r = 6371\n",
            "1.0\n"
          ]
        }
      ],
      "source": [
        "import math\n",
        "r = float(input(\"r = \"))\n",
        "print(round((4. / 3. * math.pi * r ** 3) / (10.8321 * 10**11), 3))"
      ]
    }
  ]
}