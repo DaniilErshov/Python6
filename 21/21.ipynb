{
 "cells": [
  {
   "cell_type": "code",
   "execution_count": 11,
   "id": "c9c4d1a3",
   "metadata": {},
   "outputs": [
    {
     "name": "stdout",
     "output_type": "stream",
     "text": [
      "1\n",
      "1\n",
      "4\n",
      "4\n",
      "9\n",
      "9\n",
      "16\n",
      "16\n",
      "25\n",
      "25\n",
      "36\n",
      "36\n",
      "49\n",
      "49\n",
      "64\n",
      "64\n",
      "81\n",
      "81\n",
      "None\n"
     ]
    },
    {
     "ename": "StopIteration",
     "evalue": "",
     "output_type": "error",
     "traceback": [
      "\u001b[1;31m---------------------------------------------------------------------------\u001b[0m",
      "\u001b[1;31mStopIteration\u001b[0m                             Traceback (most recent call last)",
      "\u001b[1;32mC:\\Users\\71B3~1\\AppData\\Local\\Temp/ipykernel_12324/3317696581.py\u001b[0m in \u001b[0;36m<module>\u001b[1;34m\u001b[0m\n\u001b[0;32m     17\u001b[0m \u001b[1;32mfor\u001b[0m \u001b[0mi\u001b[0m \u001b[1;32min\u001b[0m \u001b[0mrange\u001b[0m\u001b[1;33m(\u001b[0m\u001b[1;36m10\u001b[0m\u001b[1;33m)\u001b[0m\u001b[1;33m:\u001b[0m\u001b[1;33m\u001b[0m\u001b[1;33m\u001b[0m\u001b[0m\n\u001b[0;32m     18\u001b[0m     \u001b[0mprint\u001b[0m\u001b[1;33m(\u001b[0m\u001b[0mnext\u001b[0m\u001b[1;33m(\u001b[0m\u001b[0mc\u001b[0m\u001b[1;33m)\u001b[0m\u001b[1;33m)\u001b[0m\u001b[1;33m\u001b[0m\u001b[1;33m\u001b[0m\u001b[0m\n\u001b[1;32m---> 19\u001b[1;33m     \u001b[0mprint\u001b[0m\u001b[1;33m(\u001b[0m\u001b[0mnext\u001b[0m\u001b[1;33m(\u001b[0m\u001b[0mkv\u001b[0m\u001b[1;33m)\u001b[0m\u001b[1;33m)\u001b[0m\u001b[1;33m\u001b[0m\u001b[1;33m\u001b[0m\u001b[0m\n\u001b[0m\u001b[0;32m     20\u001b[0m \u001b[0mkv\u001b[0m \u001b[1;33m=\u001b[0m \u001b[0mkv_gen\u001b[0m\u001b[1;33m(\u001b[0m\u001b[1;36m9\u001b[0m\u001b[1;33m)\u001b[0m\u001b[1;33m\u001b[0m\u001b[1;33m\u001b[0m\u001b[0m\n",
      "\u001b[1;31mStopIteration\u001b[0m: "
     ]
    }
   ],
   "source": [
    "class Count:\n",
    "    def __init__(self, n):\n",
    "        self.stop = n\n",
    "        self.num = 0\n",
    "    def __iter__(self):\n",
    "        return self\n",
    "    def __next__(self):\n",
    "        self.num += 1\n",
    "        if self.num <= self.stop: return self.num**2\n",
    "def kv_gen(n):\n",
    "    for i in range(1,n+1):\n",
    "        yield i*i\n",
    "        \n",
    "c = Count(9)\n",
    "kv = kv_gen(9)\n",
    "kv_sp = [i*i for i in range(1, 10)]\n",
    "for i in range(10):\n",
    "    print(next(c))\n",
    "    print(next(kv))\n",
    "kv = kv_gen(9)"
   ]
  },
  {
   "cell_type": "code",
   "execution_count": 26,
   "id": "d269aa75",
   "metadata": {},
   "outputs": [
    {
     "name": "stdout",
     "output_type": "stream",
     "text": [
      "(2, 3)\n",
      "(2, 8)\n",
      "(2, 4)\n",
      "(2, 9)\n",
      "(5, 3)\n",
      "(5, 8)\n",
      "(5, 4)\n",
      "(5, 9)\n",
      "(7, 3)\n",
      "found\n"
     ]
    }
   ],
   "source": [
    "\n",
    "def find_gen(list_1, list_2, to_find):\n",
    "    for x in list_1:\n",
    "        for y in list_2:\n",
    "            result = x * y\n",
    "            if result == to_find:\n",
    "                print(\"found\")\n",
    "                return \n",
    "            else:\n",
    "                yield x, y\n",
    "    \n",
    "list_1 = [2, 5, 7, 10]\n",
    "list_2 = [3, 8, 4, 9]\n",
    "\n",
    "find = find_gen(list_1, list_2, 56)\n",
    "for i in find:\n",
    "    print(i)\n"
   ]
  },
  {
   "cell_type": "code",
   "execution_count": 40,
   "id": "751af128",
   "metadata": {},
   "outputs": [
    {
     "name": "stdout",
     "output_type": "stream",
     "text": [
      "C:/123\\readme.txt\n",
      "C:/123\\Tele2-Details-2022-03-79021000356.pdf\n",
      "C:/123\\.git\\COMMIT_EDITMSG\n",
      "C:/123\\.git\\config\n",
      "C:/123\\.git\\description\n",
      "C:/123\\.git\\HEAD\n",
      "C:/123\\.git\\index\n",
      "C:/123\\.git\\hooks\\applypatch-msg.sample\n",
      "C:/123\\.git\\hooks\\commit-msg.sample\n",
      "C:/123\\.git\\hooks\\fsmonitor-watchman.sample\n",
      "C:/123\\.git\\hooks\\post-update.sample\n",
      "C:/123\\.git\\hooks\\pre-applypatch.sample\n",
      "C:/123\\.git\\hooks\\pre-commit.sample\n",
      "C:/123\\.git\\hooks\\pre-merge-commit.sample\n",
      "C:/123\\.git\\hooks\\pre-push.sample\n",
      "C:/123\\.git\\hooks\\pre-rebase.sample\n",
      "C:/123\\.git\\hooks\\pre-receive.sample\n",
      "C:/123\\.git\\hooks\\prepare-commit-msg.sample\n",
      "C:/123\\.git\\hooks\\push-to-checkout.sample\n",
      "C:/123\\.git\\hooks\\update.sample\n",
      "C:/123\\.git\\info\\exclude\n",
      "C:/123\\.git\\logs\\HEAD\n",
      "C:/123\\.git\\logs\\refs\\heads\\main\n",
      "C:/123\\.git\\logs\\refs\\remotes\\123\\main\n",
      "C:/123\\.git\\objects\\3a\\09cc5da1f2ff5ee3ec6ebabc1be343ed78c597\n",
      "C:/123\\.git\\objects\\81\\78c76d627cade75005b40711b92f4177bc6cfc\n",
      "C:/123\\.git\\objects\\a0\\17e8ba75eeee1b506624480f5470732942e9ff\n",
      "C:/123\\.git\\objects\\cb\\f56057c6aaa259e7c363de125f905e8e23778f\n",
      "C:/123\\.git\\objects\\dd\\1cebff963e4b8326e110e99834681e78f305d2\n",
      "C:/123\\.git\\objects\\f2\\aa86d258996d05834897f0e3b668d342109bdc\n",
      "C:/123\\.git\\refs\\heads\\main\n",
      "C:/123\\.git\\refs\\remotes\\123\\main\n",
      "found\n"
     ]
    }
   ],
   "source": [
    "import os\n",
    "from os.path import join, getsize\n",
    "\n",
    "def find_file(name):\n",
    "    for root, dirs, files in os.walk('C:/123'):\n",
    "        for file in files:\n",
    "            if name in files:\n",
    "                print(\"found\")\n",
    "                return\n",
    "            else:\n",
    "                yield f'{root}\\{file}'\n",
    "                \n",
    "find = find_file(\"hello.txt\")\n",
    "for i in find:\n",
    "    print(i)"
   ]
  },
  {
   "cell_type": "code",
   "execution_count": 7,
   "id": "d6541448",
   "metadata": {},
   "outputs": [
    {
     "name": "stdout",
     "output_type": "stream",
     "text": [
      "1\n",
      "1\n",
      "2\n",
      "3\n",
      "3\n",
      "4\n",
      "5\n",
      "5\n",
      "6\n",
      "6\n"
     ]
    }
   ],
   "source": [
    "def Q(n):\n",
    "    if n == 2 or n == 1:\n",
    "        return 1\n",
    "    return Q(n - Q(n - 1)) + Q(n - Q(n - 2))\n",
    "\n",
    "def Qhoft(lst, N):\n",
    "    if lst == [1, 1]:\n",
    "        for i in range(1, N + 1):\n",
    "            yield Q(i)\n",
    "            \n",
    "lst = [1, 1]\n",
    "N = 10\n",
    "q = Qhoft(lst, N)\n",
    "for i in range(1, N + 1):\n",
    "    print(next(q))"
   ]
  },
  {
   "cell_type": "code",
   "execution_count": 10,
   "id": "5767128a",
   "metadata": {},
   "outputs": [
    {
     "name": "stdout",
     "output_type": "stream",
     "text": [
      "299\n",
      "413\n",
      "428\n",
      "452\n",
      "498\n",
      "513\n",
      "496\n",
      "3099\n"
     ]
    }
   ],
   "source": [
    "import os\n",
    "from os.path import join, getsize\n",
    "\n",
    "def Str_file():\n",
    "    for root, dirs, files in os.walk('C:/python/Python6'):\n",
    "        for file in files:\n",
    "            if \"ipynb\" in file:\n",
    "                f = open(f'{root}/{file}')\n",
    "                f = f.readlines()\n",
    "                number_lines = 0\n",
    "                for i in f:\n",
    "                    if len(i) != 0:\n",
    "                        number_lines += 1\n",
    "                yield number_lines\n",
    "\n",
    "                \n",
    "s = Str_file()\n",
    "all_lines = 0\n",
    "for i in s:\n",
    "    print(i)\n",
    "    all_lines += i\n",
    "print(all_lines)\n",
    "    "
   ]
  },
  {
   "cell_type": "code",
   "execution_count": 34,
   "id": "661e02e8",
   "metadata": {},
   "outputs": [
    {
     "name": "stdout",
     "output_type": "stream",
     "text": [
      "start\n",
      "<generator object Svaz_spis.__next__ at 0x00000172B41510B0>\n",
      "<generator object Svaz_spis.__next__ at 0x00000172B41510B0>\n",
      "<generator object Svaz_spis.__next__ at 0x00000172B41510B0>\n",
      "<generator object Svaz_spis.__next__ at 0x00000172B41510B0>\n",
      "<generator object Svaz_spis.__next__ at 0x00000172B41510B0>\n",
      "<generator object Svaz_spis.__next__ at 0x00000172B41510B0>\n",
      "<generator object Svaz_spis.__next__ at 0x00000172B41510B0>\n"
     ]
    }
   ],
   "source": [
    "class Uzel():\n",
    "    def __init__(self, n):\n",
    "        self.info = n\n",
    "        self.link = None\n",
    "        \n",
    "        \n",
    "class Svaz_spis(Uzel):\n",
    "    \n",
    "    def __iter__(self):\n",
    "        return self\n",
    "    \n",
    "    def __init__(self, n = 0):\n",
    "        self.top = Uzel(n)\n",
    "        self.curr = self.top\n",
    "    \n",
    "    def append(self, n):\n",
    "        while self.curr.link != None:\n",
    "            self.curr = self.curr.link\n",
    "        self.curr.link = Uzel(n)\n",
    "        \n",
    "    def __next__(self):\n",
    "        self.curr = self.top\n",
    "        for i in range(1, 7):\n",
    "            self.curr = self.curr.link\n",
    "            yield self.curr.info\n",
    "            \n",
    "    def get(self, k):\n",
    "        i = 1\n",
    "        self.curr = self.top\n",
    "        while self.curr.link != None and i < k:\n",
    "            i += 1\n",
    "            self.curr = self.curr.link\n",
    "        if i == k:\n",
    "            return self.curr.info\n",
    "        else:\n",
    "            return None\n",
    "        \n",
    "    def print_all(self):\n",
    "        self.curr = self.top\n",
    "        while (self.curr.link != None):\n",
    "            print(self.curr.info)\n",
    "            self.curr = self.curr.link\n",
    "        print(self.curr.info)\n",
    "            \n",
    "uz = Svaz_spis(1)\n",
    "print(\"start\")\n",
    "uz.append(2)\n",
    "uz.append(3)\n",
    "uz.append(4)\n",
    "uz.append(5)\n",
    "uz.append(6)\n",
    "uz.append(7)\n",
    "\n",
    "for i in range(1,8):\n",
    "    print(next(uz))"
   ]
  },
  {
   "cell_type": "code",
   "execution_count": null,
   "id": "8d4709fc",
   "metadata": {},
   "outputs": [],
   "source": []
  }
 ],
 "metadata": {
  "kernelspec": {
   "display_name": "Python 3 (ipykernel)",
   "language": "python",
   "name": "python3"
  },
  "language_info": {
   "codemirror_mode": {
    "name": "ipython",
    "version": 3
   },
   "file_extension": ".py",
   "mimetype": "text/x-python",
   "name": "python",
   "nbconvert_exporter": "python",
   "pygments_lexer": "ipython3",
   "version": "3.9.7"
  }
 },
 "nbformat": 4,
 "nbformat_minor": 5
}
