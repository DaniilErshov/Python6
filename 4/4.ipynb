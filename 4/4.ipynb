{
  "nbformat": 4,
  "nbformat_minor": 0,
  "metadata": {
    "colab": {
      "name": "Untitled12.ipynb",
      "provenance": [],
      "authorship_tag": "ABX9TyOdXlN0yjRqR/LkdkbBGCj0",
      "include_colab_link": true
    },
    "kernelspec": {
      "name": "python3",
      "display_name": "Python 3"
    },
    "language_info": {
      "name": "python"
    }
  },
  "cells": [
    {
      "cell_type": "markdown",
      "metadata": {
        "id": "view-in-github",
        "colab_type": "text"
      },
      "source": [
        "<a href=\"https://colab.research.google.com/github/DaniilErshov/Python6/blob/main/4.ipynb\" target=\"_parent\"><img src=\"https://colab.research.google.com/assets/colab-badge.svg\" alt=\"Open In Colab\"/></a>"
      ]
    },
    {
      "cell_type": "markdown",
      "source": [
        "1 задание\n"
      ],
      "metadata": {
        "id": "6X9UkvJ0Tr4a"
      }
    },
    {
      "cell_type": "code",
      "execution_count": null,
      "metadata": {
        "colab": {
          "base_uri": "https://localhost:8080/"
        },
        "id": "vSdeM-e0TlTI",
        "outputId": "848b6dc2-7004-44d9-bd0e-67e55982176c"
      },
      "outputs": [
        {
          "output_type": "stream",
          "name": "stdout",
          "text": [
            "введите число очков 2000\n",
            "ваш уровень 2\n"
          ]
        }
      ],
      "source": [
        "a = int(input(\"введите число очков \"))\n",
        "if a < 1000:\n",
        "  print(\"ваш уровень 1\")\n",
        "elif (a < 2500):\n",
        "  print(\"ваш уровень 2\")\n",
        "elif a < 5000:\n",
        "  print(\"ваш уровень 3\")\n",
        "else:\n",
        "  print(\"ваш уровень 4\")"
      ]
    },
    {
      "cell_type": "markdown",
      "source": [
        "2 задание"
      ],
      "metadata": {
        "id": "bxK3g4SdVd6C"
      }
    },
    {
      "cell_type": "code",
      "source": [
        "a = int(input(\"введите 1 число \"))\n",
        "b = int(input(\"введите 2 число \"))\n",
        "c = int(input(\"введите 3 число \"))\n",
        "if a >= b:\n",
        "  if a >= c:\n",
        "    print(a)\n",
        "  else:\n",
        "    print(c)\n",
        "else:\n",
        "  if c >= b:\n",
        "    print(c)\n",
        "  else:\n",
        "    print(b)"
      ],
      "metadata": {
        "colab": {
          "base_uri": "https://localhost:8080/"
        },
        "id": "QVbbMzYCVe1p",
        "outputId": "e2e67f26-637b-4ae7-f1a9-12a2f111d529"
      },
      "execution_count": null,
      "outputs": [
        {
          "output_type": "stream",
          "name": "stdout",
          "text": [
            "введите 1 число 1\n",
            "введите 2 число 3\n",
            "введите 3 число 2\n",
            "3\n"
          ]
        }
      ]
    },
    {
      "cell_type": "markdown",
      "source": [
        "3 задание"
      ],
      "metadata": {
        "id": "YzJRPdccXJiN"
      }
    },
    {
      "cell_type": "code",
      "source": [
        "x = int(input(\"введите x = \"))\n",
        "if x > 0:\n",
        "  print(\"y = \", x - 12)\n",
        "elif x == 0:\n",
        "  print(\"y = \", 5)\n",
        "else:\n",
        "  print(\"y = \", x**2)"
      ],
      "metadata": {
        "colab": {
          "base_uri": "https://localhost:8080/"
        },
        "id": "jU9EwjwgXKxL",
        "outputId": "ccf7c09b-31e9-4b51-8c43-2ef03d6b455b"
      },
      "execution_count": null,
      "outputs": [
        {
          "output_type": "stream",
          "name": "stdout",
          "text": [
            "введите x = -5\n",
            "y =  25\n"
          ]
        }
      ]
    },
    {
      "cell_type": "markdown",
      "source": [
        "4 задание"
      ],
      "metadata": {
        "id": "Wmtplb61X94_"
      }
    },
    {
      "cell_type": "code",
      "source": [
        "n = int(input(\"введите место в списке \"))\n",
        "if n <= 10:\n",
        "  print(\"вы зачислены\")\n",
        "  ball = int(input(\"введите колво баллов \"))\n",
        "  if ball >= 290:\n",
        "    print(\"у вас стипендия\")\n",
        "  else:\n",
        "    print(\"но стипендии нет((((\")\n",
        "else:\n",
        "  print(\"к сожалению, вы не поступили\")"
      ],
      "metadata": {
        "colab": {
          "base_uri": "https://localhost:8080/"
        },
        "id": "MDOx8kZ7X_gP",
        "outputId": "966c8283-dd86-4707-97db-0ddb153bb158"
      },
      "execution_count": null,
      "outputs": [
        {
          "output_type": "stream",
          "name": "stdout",
          "text": [
            "введите место в списке 5\n",
            "вы зачислены\n",
            "введите колво баллов 292\n",
            "у вас стипендия\n"
          ]
        }
      ]
    },
    {
      "cell_type": "markdown",
      "source": [
        "5 задание"
      ],
      "metadata": {
        "id": "F86xBcRrZb8h"
      }
    },
    {
      "cell_type": "code",
      "source": [
        "rating = int(input('Что получил по математике? '))\n",
        "if rating == 2 or rating == 3:\n",
        " print('Плохо. Марш учиться!')\n",
        "else:\n",
        " print('Молодец! Можешь отдохнуть.')\n",
        "\n"
      ],
      "metadata": {
        "colab": {
          "base_uri": "https://localhost:8080/"
        },
        "id": "lLrsbsZVZc0s",
        "outputId": "a04d9d00-b8ff-4a70-f48e-f323da370ba8"
      },
      "execution_count": null,
      "outputs": [
        {
          "output_type": "stream",
          "name": "stdout",
          "text": [
            "Что получил по математике? 5\n",
            "Молодец! Можешь отдохнуть.\n"
          ]
        }
      ]
    },
    {
      "cell_type": "markdown",
      "source": [
        "6 задание"
      ],
      "metadata": {
        "id": "NoeNd4HZaFOY"
      }
    },
    {
      "cell_type": "code",
      "source": [
        "chislo = int(input(\"введите число \"))\n",
        "if (int(chislo / 100) == 0):\n",
        "  print(\"yes\")\n",
        "else:\n",
        "  print(\"no\")"
      ],
      "metadata": {
        "colab": {
          "base_uri": "https://localhost:8080/"
        },
        "id": "Auwo6OaeaGrl",
        "outputId": "17b16d57-73d3-42b4-e1cf-4f7e1dd53254"
      },
      "execution_count": null,
      "outputs": [
        {
          "output_type": "stream",
          "name": "stdout",
          "text": [
            "введите число -101\n",
            "no\n"
          ]
        }
      ]
    },
    {
      "cell_type": "markdown",
      "source": [
        "7 задание"
      ],
      "metadata": {
        "id": "wijVsUO_a6wW"
      }
    },
    {
      "cell_type": "code",
      "source": [
        "a = int(input(\"введите 1 число \"))\n",
        "b = int(input(\"введите 2 число \"))\n",
        "c = int(input(\"введите 3 число \"))\n",
        "if a==b==c:\n",
        "  print(3)\n",
        "elif a==b or a == c or b == c:\n",
        "  print(2)\n",
        "else:\n",
        "  print(0)"
      ],
      "metadata": {
        "colab": {
          "base_uri": "https://localhost:8080/"
        },
        "id": "Q6waT7PKa_Ac",
        "outputId": "0d36afcf-05de-41e9-a92c-24718dcad5a9"
      },
      "execution_count": null,
      "outputs": [
        {
          "output_type": "stream",
          "name": "stdout",
          "text": [
            "введите 1 число 1\n",
            "введите 2 число 1\n",
            "введите 3 число 1\n",
            "3\n"
          ]
        }
      ]
    },
    {
      "cell_type": "markdown",
      "source": [
        "8 задание"
      ],
      "metadata": {
        "id": "64Efxy97buy_"
      }
    },
    {
      "cell_type": "code",
      "source": [
        "price = int(input(\"gimme price: \"))\n",
        "square = int(input(\"gimme square: \"))\n",
        "if (square >= 100 and price <= 10) or (square >= 80 and price <= 7):\n",
        "  print(\"i will buy\")\n",
        "else:\n",
        "  print(\"i will not buy\")\n"
      ],
      "metadata": {
        "colab": {
          "base_uri": "https://localhost:8080/"
        },
        "id": "4FfAXI8vbwGY",
        "outputId": "9a26bc71-e97e-43da-ccaa-f1298b4765e4"
      },
      "execution_count": null,
      "outputs": [
        {
          "output_type": "stream",
          "name": "stdout",
          "text": [
            "gimme price: 9\n",
            "gimme square: 98\n",
            "i will not buy\n"
          ]
        }
      ]
    },
    {
      "cell_type": "markdown",
      "source": [
        "9 задание"
      ],
      "metadata": {
        "id": "Bm4yV9qmfJ0D"
      }
    },
    {
      "cell_type": "code",
      "source": [
        "money = input(\"введите сумму \")\n",
        "inmoney = int(money)\n",
        "sum = 0\n",
        "str1 = \"\"\n",
        "if inmoney > 50000:\n",
        "  sum += (inmoney - 50000) * 0.3\n",
        "  str1 += \"(\" + money + \" - 50000) * 0.3 + \"\n",
        "  print\n",
        "if inmoney > 10000:\n",
        "  if inmoney > 50000:\n",
        "    sum += (50000 - 10000) * 0.2\n",
        "    str1 += \"(50000 - 10000) * 0.2 + \"\n",
        "  else:\n",
        "    sum += (inmoney - 10000) * 0.2\n",
        "    str1 += \"(\" + money + \" - 10000) * 0.2 + \"\n",
        "if inmoney < 10000:\n",
        "  sum += (inmoney) * 0.13\n",
        "  str1 += \"(\" + money + \" * 0.13)\"\n",
        "else:\n",
        "  sum += (10000) * 0.13\n",
        "  str1 +=  \"(10000) * 0.13\"\n",
        "print(str1)\n",
        "print(sum)"
      ],
      "metadata": {
        "colab": {
          "base_uri": "https://localhost:8080/"
        },
        "id": "PuDBkxYYfK_V",
        "outputId": "02aa398d-a448-4c10-8b22-6ec2e6fc17ec"
      },
      "execution_count": null,
      "outputs": [
        {
          "output_type": "stream",
          "name": "stdout",
          "text": [
            "введите сумму 100000\n",
            "(100000 - 50000) * 0.3 + (50000 - 10000) * 0.2 + (10000) * 0.13\n",
            "24300.0\n"
          ]
        }
      ]
    },
    {
      "cell_type": "markdown",
      "source": [
        "10 задание"
      ],
      "metadata": {
        "id": "SiCQCvxgHnWm"
      }
    },
    {
      "cell_type": "code",
      "source": [
        "hour = int(input(\"введите час \"))\n",
        "num_set = {8, 9, 12, 13, 15, 16, 17, 20, 21, 22}  \n",
        "if  hour in num_set:\n",
        "  print(\"yes\")\n",
        "else:\n",
        "  print(\"no\")"
      ],
      "metadata": {
        "id": "NSaGJVxRmwpB",
        "colab": {
          "base_uri": "https://localhost:8080/"
        },
        "outputId": "7dc1ed6e-ee84-4573-e968-0981e744abd7"
      },
      "execution_count": 2,
      "outputs": [
        {
          "output_type": "stream",
          "name": "stdout",
          "text": [
            "введите час 14\n",
            "no\n"
          ]
        }
      ]
    }
  ]
}
