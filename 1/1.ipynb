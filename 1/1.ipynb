{
  "nbformat": 4,
  "nbformat_minor": 0,
  "metadata": {
    "colab": {
      "name": "Untitled4.ipynb",
      "provenance": [],
      "authorship_tag": "ABX9TyOSAXMgXvyI/rMiCEQwrP+7",
      "include_colab_link": true
    },
    "kernelspec": {
      "name": "python3",
      "display_name": "Python 3"
    },
    "language_info": {
      "name": "python"
    }
  },
  "cells": [
    {
      "cell_type": "markdown",
      "metadata": {
        "id": "view-in-github",
        "colab_type": "text"
      },
      "source": [
        "<a href=\"https://colab.research.google.com/github/DaniilErshov/Python6/blob/main/1.ipynb\" target=\"_parent\"><img src=\"https://colab.research.google.com/assets/colab-badge.svg\" alt=\"Open In Colab\"/></a>"
      ]
    },
    {
      "cell_type": "markdown",
      "source": [
        ""
      ],
      "metadata": {
        "id": "kfOykQwRqE0H"
      }
    },
    {
      "cell_type": "code",
      "source": [
        "import numpy as np"
      ],
      "metadata": {
        "id": "_lCBENgAAFKn"
      },
      "execution_count": null,
      "outputs": []
    },
    {
      "cell_type": "code",
      "source": [
        "print(\"---------\")\n",
        "print(\"|00000000|\")\n",
        "print(\"|00000000|\")\n",
        "print(\"|00000000|\")\n",
        "print(\"|00000000|\")\n",
        "print(\"|00000000|\")\n",
        "print(\"---------\")"
      ],
      "metadata": {
        "colab": {
          "base_uri": "https://localhost:8080/"
        },
        "id": "7LqP5e0-B8vG",
        "outputId": "74725851-b74d-4591-f4b3-ec1e1445edfb"
      },
      "execution_count": null,
      "outputs": [
        {
          "output_type": "stream",
          "name": "stdout",
          "text": [
            "---------\n",
            "|00000000|\n",
            "|00000000|\n",
            "|00000000|\n",
            "|00000000|\n",
            "|00000000|\n",
            "---------\n"
          ]
        }
      ]
    },
    {
      "cell_type": "code",
      "source": [
        "print(\"==============\")\n",
        "print(\"Привет\")\n",
        "print(\"Друг\")\n",
        "print(\"==============\")"
      ],
      "metadata": {
        "colab": {
          "base_uri": "https://localhost:8080/"
        },
        "id": "AaAC4qkiPl5-",
        "outputId": "e2a6e998-1575-4813-df1c-d8ba903ce6ad"
      },
      "execution_count": null,
      "outputs": [
        {
          "output_type": "stream",
          "name": "stdout",
          "text": [
            "==============\n",
            "Привет\n",
            "Друг\n",
            "==============\n"
          ]
        }
      ]
    },
    {
      "cell_type": "code",
      "source": [
        "print(\"===============\")\n",
        "print(\"||           ||\")\n",
        "print(\"||           ||\")\n",
        "print(\"||  Привет   ||\")\n",
        "print(\"||  Друг     ||\")\n",
        "print(\"||           ||\")\n",
        "print(\"||           ||\")\n",
        "print(\"===============\")"
      ],
      "metadata": {
        "colab": {
          "base_uri": "https://localhost:8080/"
        },
        "id": "FNVqE2daP9Xe",
        "outputId": "d3259e86-7a72-4d9a-e032-c31cb617432d"
      },
      "execution_count": null,
      "outputs": [
        {
          "output_type": "stream",
          "name": "stdout",
          "text": [
            "===============\n",
            "||           ||\n",
            "||           ||\n",
            "||  Привет   ||\n",
            "||  Друг     ||\n",
            "||           ||\n",
            "||           ||\n",
            "===============\n"
          ]
        }
      ]
    },
    {
      "cell_type": "code",
      "source": [
        "client = 'Петя'\n",
        "pet = 'кот'\n",
        "print(client)\n",
        "print('and')\n",
        "print(pet)"
      ],
      "metadata": {
        "colab": {
          "base_uri": "https://localhost:8080/"
        },
        "id": "N3qeMNI8QWOu",
        "outputId": "8384c3f7-1df4-4467-d82a-f93bed24eaeb"
      },
      "execution_count": null,
      "outputs": [
        {
          "output_type": "stream",
          "name": "stdout",
          "text": [
            "Петя\n",
            "and\n",
            "кот\n"
          ]
        }
      ]
    },
    {
      "cell_type": "code",
      "source": [
        "r = 'Red'\n",
        "g = 'Green'\n",
        "b = 'Blue'\n",
        "print(r,b,g,r+g+b,b,g+b)"
      ],
      "metadata": {
        "colab": {
          "base_uri": "https://localhost:8080/"
        },
        "id": "mud4tjG5QofM",
        "outputId": "553c753c-26d1-464e-f472-dbc33bb9423a"
      },
      "execution_count": null,
      "outputs": [
        {
          "output_type": "stream",
          "name": "stdout",
          "text": [
            "Red Blue Green RedGreenBlue Blue GreenBlue\n"
          ]
        }
      ]
    },
    {
      "cell_type": "code",
      "source": [
        "name = input(\"Введите имя:\")\n",
        "surname = input(\"Введите фамилию:\")\n",
        "city = input(\"Введите город:\")\n",
        "print(\"Your name:\")\n",
        "print(name, surname)\n",
        "print(\"Your city:\")\n",
        "print(city)"
      ],
      "metadata": {
        "colab": {
          "base_uri": "https://localhost:8080/"
        },
        "id": "iIX2wK4nQ2Ds",
        "outputId": "f7cc8b26-9490-4034-8226-c99902f4559e"
      },
      "execution_count": null,
      "outputs": [
        {
          "output_type": "stream",
          "name": "stdout",
          "text": [
            "Введите имя:Daniil\n",
            "Введите фамилию:Ershov\n",
            "Введите город:Jo\n",
            "Your name:\n",
            "Daniil Ershov\n",
            "Your city:\n",
            "Jo\n"
          ]
        }
      ]
    },
    {
      "cell_type": "code",
      "source": [
        "name = input(\"Введите имя:\")\n",
        "p_file = input(\"введите путь\")\n",
        "print('C:/'+ name + '/docs/' + p_file)"
      ],
      "metadata": {
        "colab": {
          "base_uri": "https://localhost:8080/"
        },
        "id": "FEZTqFinSKLU",
        "outputId": "8d46cb00-d425-420c-98e6-57dfe8f99046"
      },
      "execution_count": null,
      "outputs": [
        {
          "output_type": "stream",
          "name": "stdout",
          "text": [
            "Введите имя:Daniil\n",
            "введите путьpapa.txt\n",
            "C:/Daniil/docs/papa.txt\n"
          ]
        }
      ]
    },
    {
      "cell_type": "code",
      "source": [
        "a = input(\"введите первое слово: \")\n",
        "b = input(\"введите второе слово: \")\n",
        "print(a,b)\n",
        "a,b = b,a\n",
        "print(a,b)"
      ],
      "metadata": {
        "id": "CbOaxNnGRspF",
        "colab": {
          "base_uri": "https://localhost:8080/"
        },
        "outputId": "9d8dcd56-eca8-4ed3-ca64-3fa73a22fa21"
      },
      "execution_count": 2,
      "outputs": [
        {
          "output_type": "stream",
          "name": "stdout",
          "text": [
            "введите первое слово: perv\n",
            "введите второе слово: vtor\n",
            "perv vtor\n",
            "vtor perv\n"
          ]
        }
      ]
    }
  ]
}
