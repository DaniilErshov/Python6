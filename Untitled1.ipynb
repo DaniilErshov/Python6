{
  "nbformat": 4,
  "nbformat_minor": 0,
  "metadata": {
    "colab": {
      "name": "Untitled1.ipynb",
      "provenance": [],
      "collapsed_sections": [],
      "authorship_tag": "ABX9TyNHKifXe0mY38XvbF0R5NLt",
      "include_colab_link": true
    },
    "kernelspec": {
      "name": "python3",
      "display_name": "Python 3"
    },
    "language_info": {
      "name": "python"
    }
  },
  "cells": [
    {
      "cell_type": "markdown",
      "metadata": {
        "id": "view-in-github",
        "colab_type": "text"
      },
      "source": [
        "<a href=\"https://colab.research.google.com/github/DaniilErshov/Python6/blob/main/Untitled1.ipynb\" target=\"_parent\"><img src=\"https://colab.research.google.com/assets/colab-badge.svg\" alt=\"Open In Colab\"/></a>"
      ]
    },
    {
      "cell_type": "markdown",
      "source": [
        "1 задание"
      ],
      "metadata": {
        "id": "TrinstBXJyOw"
      }
    },
    {
      "cell_type": "code",
      "execution_count": null,
      "metadata": {
        "colab": {
          "base_uri": "https://localhost:8080/"
        },
        "id": "bwEUxNL2JuFo",
        "outputId": "60d121fe-9af2-4cb7-e786-96fa336a7f6b"
      },
      "outputs": [
        {
          "output_type": "stream",
          "name": "stdout",
          "text": [
            "day = среда\n",
            "number of day 3\n"
          ]
        }
      ],
      "source": [
        "week = {'понедельник' : 1, 'вторник' : 2, 'среда' : 3,'четверг' : 4,\n",
        "        'пятница' : 5,'суббота' : 6,'воскресенье' : 7}\n",
        "n = input(\"day = \")\n",
        "print(\"number of day\", week[n])"
      ]
    },
    {
      "cell_type": "markdown",
      "source": [
        "2 задание"
      ],
      "metadata": {
        "id": "iL_87UjhLXaK"
      }
    },
    {
      "cell_type": "code",
      "source": [
        "str_lst = [input(\"word = \") for i in range(1, 11)]\n",
        "k = 0\n",
        "for i in str_lst:\n",
        "  if i == \"Карамба\":\n",
        "    k += 1\n",
        "print(k)"
      ],
      "metadata": {
        "colab": {
          "base_uri": "https://localhost:8080/"
        },
        "id": "-youLMUyLXKd",
        "outputId": "de024608-623d-458d-a65f-15481aef0a47"
      },
      "execution_count": null,
      "outputs": [
        {
          "output_type": "stream",
          "name": "stdout",
          "text": [
            "word = при\n",
            "word = вет\n",
            "word = а\n",
            "word = а\n",
            "word = Карамба\n",
            "word = Карамба\n",
            "word = ыф\n",
            "word = ф\n",
            "word = а\n",
            "word = п\n",
            "2\n"
          ]
        }
      ]
    },
    {
      "cell_type": "markdown",
      "source": [
        "3 задание"
      ],
      "metadata": {
        "id": "ZgGTg7WOMshI"
      }
    },
    {
      "cell_type": "code",
      "source": [
        "s = input(\"str = \")\n",
        "k = 0\n",
        "t = 0\n",
        "for i in range(0, len(s)):\n",
        "  if s[i] == '*':\n",
        "    k += 1\n",
        "    t = i + 1\n",
        "if k == 1: print(\"symbol '*' on\", t)\n",
        "else: print(\"not one\")"
      ],
      "metadata": {
        "colab": {
          "base_uri": "https://localhost:8080/"
        },
        "id": "wINGdfQaMuAW",
        "outputId": "2f775450-f152-4603-e4af-2260a6da979c"
      },
      "execution_count": null,
      "outputs": [
        {
          "output_type": "stream",
          "name": "stdout",
          "text": [
            "str = Пр*ивет как дела\n",
            "symbol '*' on 3\n"
          ]
        }
      ]
    },
    {
      "cell_type": "markdown",
      "source": [
        "4 задание"
      ],
      "metadata": {
        "id": "iPfTJeSMNrYT"
      }
    },
    {
      "cell_type": "code",
      "source": [
        "ryad = int(input(\"ryad = \"))\n",
        "sid = int(input(\"sid = \"))\n",
        "metr = int(input(\"metr = \"))\n",
        "s = \"\"\n",
        "s = \"=\" * sid + \"*\" * metr + \"=\" * sid\n",
        "for i in range(1, ryad + 1):\n",
        "  print(s)"
      ],
      "metadata": {
        "colab": {
          "base_uri": "https://localhost:8080/"
        },
        "id": "4rTUa-tWNszk",
        "outputId": "99ace7eb-b11a-455a-b6c4-671a7bf64324"
      },
      "execution_count": null,
      "outputs": [
        {
          "output_type": "stream",
          "name": "stdout",
          "text": [
            "ryad = 5\n",
            "sid = 7\n",
            "metr = 3\n",
            "=======***=======\n",
            "=======***=======\n",
            "=======***=======\n",
            "=======***=======\n",
            "=======***=======\n"
          ]
        }
      ]
    },
    {
      "cell_type": "markdown",
      "source": [
        "5 задание"
      ],
      "metadata": {
        "id": "mwgFNMx7PLVf"
      }
    },
    {
      "cell_type": "code",
      "source": [
        "bt = 'a'\n",
        "x = 8\n",
        "y = 10\n",
        "flag = 0\n",
        "while bt != '0':\n",
        "  bt = input(\"button = \")\n",
        "  if (x == 15 or x == - 15 or y == 20 or y == -20):\n",
        "    print(\"wall\")\n",
        "  if (bt == 'w' and y < 20):\n",
        "    y += 1\n",
        "  if (bt == 's' and y > -20):\n",
        "    y -= 1\n",
        "  if (bt == 'a' and x >-15):\n",
        "    x -= 1\n",
        "  if (bt == 'd' and x < 15):\n",
        "    x += 1\n",
        "  print(\"(\",x,y,\")\")\n"
      ],
      "metadata": {
        "id": "z624o9_qPOLr"
      },
      "execution_count": null,
      "outputs": []
    },
    {
      "cell_type": "markdown",
      "source": [
        "6 задание"
      ],
      "metadata": {
        "id": "Dqs0diEbYSEe"
      }
    },
    {
      "cell_type": "code",
      "source": [
        "s = input(\"string = \")\n",
        "k = 0\n",
        "mx = 0\n",
        "for i in range(0, len(s)):\n",
        "  if s[i] == \"s\":\n",
        "    k += 1\n",
        "  if (k != 0 and s[i] != \"s\"):\n",
        "    mx = max(k,mx)\n",
        "    k = 0\n",
        "print(mx)"
      ],
      "metadata": {
        "colab": {
          "base_uri": "https://localhost:8080/"
        },
        "id": "2ElYECsAYUSl",
        "outputId": "9095bbb5-48b3-4204-c6bc-39d67b8c7034"
      },
      "execution_count": null,
      "outputs": [
        {
          "output_type": "stream",
          "name": "stdout",
          "text": [
            "string = ssssssbbbssbbbcj\n",
            "6\n"
          ]
        }
      ]
    },
    {
      "cell_type": "markdown",
      "source": [
        "7 задание"
      ],
      "metadata": {
        "id": "0HYcdUWkZws8"
      }
    },
    {
      "cell_type": "code",
      "source": [
        "s = input(\"string = \")\n",
        "flag = 1\n",
        "for i in range(0, len(s)):\n",
        "  if (s[i])"
      ],
      "metadata": {
        "id": "fBtHryXxZ0TN"
      },
      "execution_count": null,
      "outputs": []
    },
    {
      "cell_type": "markdown",
      "source": [
        ""
      ],
      "metadata": {
        "id": "YCsSVnjaPLbz"
      }
    }
  ]
}