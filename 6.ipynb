{
  "nbformat": 4,
  "nbformat_minor": 0,
  "metadata": {
    "colab": {
      "name": "Untitled0.ipynb",
      "provenance": [],
      "collapsed_sections": [],
      "authorship_tag": "ABX9TyMgkGLZ9EY3JmmtuWFPiV6b",
      "include_colab_link": true
    },
    "kernelspec": {
      "name": "python3",
      "display_name": "Python 3"
    },
    "language_info": {
      "name": "python"
    }
  },
  "cells": [
    {
      "cell_type": "markdown",
      "metadata": {
        "id": "view-in-github",
        "colab_type": "text"
      },
      "source": [
        "<a href=\"https://colab.research.google.com/github/DaniilErshov/Python6/blob/main/6.ipynb\" target=\"_parent\"><img src=\"https://colab.research.google.com/assets/colab-badge.svg\" alt=\"Open In Colab\"/></a>"
      ]
    },
    {
      "cell_type": "markdown",
      "source": [
        "1 задание"
      ],
      "metadata": {
        "id": "1rTdTEMS63H3"
      }
    },
    {
      "cell_type": "code",
      "execution_count": null,
      "metadata": {
        "colab": {
          "base_uri": "https://localhost:8080/"
        },
        "id": "o-Y5Rcxa4gQS",
        "outputId": "5055ab02-133f-4ba4-9a23-080ba9d63313"
      },
      "outputs": [
        {
          "output_type": "stream",
          "name": "stdout",
          "text": [
            "114 не подходит\n",
            "12 не подходит\n",
            "14 подходит\n",
            "10605 не подходит\n",
            "4907 не подходит\n",
            "450 не подходит\n"
          ]
        }
      ],
      "source": [
        "table = [114, 12, 14, 10605, 4907, 450]\n",
        "for b in table:\n",
        "  if (b % 2 == 0 and b % 3 != 0):\n",
        "    print(b, \"подходит\")\n",
        "  else:\n",
        "    print(b, \"не подходит\")\n"
      ]
    },
    {
      "cell_type": "markdown",
      "source": [
        "2 задание"
      ],
      "metadata": {
        "id": "evk8PtJE8Za6"
      }
    },
    {
      "cell_type": "code",
      "source": [
        "ten_lst = [int(input(\"введите число \")) for i in range(1,11)]\n",
        "k = 0\n",
        "for i in ten_lst:\n",
        "  if i > 0 and i % 2 == 0:\n",
        "    k += 1\n",
        "print(k)"
      ],
      "metadata": {
        "colab": {
          "base_uri": "https://localhost:8080/"
        },
        "id": "k4kl08yF8a0O",
        "outputId": "a6e18b81-084e-4d4e-b0cc-4132cbc3b625"
      },
      "execution_count": null,
      "outputs": [
        {
          "output_type": "stream",
          "name": "stdout",
          "text": [
            "введите число 1\n",
            "введите число -2\n",
            "введите число 3\n",
            "введите число 4\n",
            "введите число 5\n",
            "введите число -5\n",
            "введите число 7\n",
            "введите число 6\n",
            "введите число 4\n",
            "введите число 3\n",
            "3\n"
          ]
        }
      ]
    },
    {
      "cell_type": "markdown",
      "source": [
        "3 задание"
      ],
      "metadata": {
        "id": "s8cb2F0iAQzF"
      }
    },
    {
      "cell_type": "code",
      "source": [
        "salary = 0\n",
        "for i in range(1,13):\n",
        "  print(\"month: \", i)\n",
        "  salary += int(input(\"salary = \"))\n",
        "print(float(salary/121))"
      ],
      "metadata": {
        "colab": {
          "base_uri": "https://localhost:8080/"
        },
        "id": "ZidZ24CAAWUG",
        "outputId": "0e03b65c-6e38-4f9a-986f-5ebf3b024318"
      },
      "execution_count": null,
      "outputs": [
        {
          "output_type": "stream",
          "name": "stdout",
          "text": [
            "month:  1\n",
            "salary = 12\n",
            "month:  2\n",
            "salary = 12\n",
            "month:  3\n",
            "salary = 13\n",
            "month:  4\n",
            "salary = 14\n",
            "month:  5\n",
            "salary = 15\n",
            "month:  6\n",
            "salary = 16\n",
            "month:  7\n",
            "salary = 17\n",
            "month:  8\n",
            "salary = 18\n",
            "month:  9\n",
            "salary = 19\n",
            "month:  10\n",
            "salary = 20\n",
            "month:  11\n",
            "salary = 21\n",
            "month:  12\n",
            "salary = 22\n",
            "16.583333333333332\n"
          ]
        }
      ]
    },
    {
      "cell_type": "markdown",
      "source": [
        "4 задание\n"
      ],
      "metadata": {
        "id": "0wNnGqorAW1r"
      }
    },
    {
      "cell_type": "code",
      "source": [
        "dist = 0\n",
        "for i in range(30,36):\n",
        "  print(i, \" заповедник\")\n",
        "  pers = int(input(\"number of persons = \"))\n",
        "  if pers > 10:\n",
        "    dist +=1\n",
        "    print(\"нарушение\")\n",
        "print(\"колво нарушений\", dist)"
      ],
      "metadata": {
        "colab": {
          "base_uri": "https://localhost:8080/"
        },
        "id": "vsPL5QMYAXQM",
        "outputId": "3bc9f194-213a-40e1-a7b8-85d5e524d1bb"
      },
      "execution_count": null,
      "outputs": [
        {
          "output_type": "stream",
          "name": "stdout",
          "text": [
            "30  заповедник\n",
            "number of persons = 12\n",
            "нарушение\n",
            "31  заповедник\n",
            "number of persons = 2\n",
            "32  заповедник\n",
            "number of persons = 13\n",
            "нарушение\n",
            "33  заповедник\n",
            "number of persons = 2\n",
            "34  заповедник\n",
            "number of persons = 15\n",
            "нарушение\n",
            "35  заповедник\n",
            "number of persons = 2\n",
            "колво нарушений 3\n"
          ]
        }
      ]
    },
    {
      "cell_type": "markdown",
      "source": [
        "5 задание"
      ],
      "metadata": {
        "id": "tU95MpA-AXuT"
      }
    },
    {
      "cell_type": "code",
      "source": [
        "n = int(input(\"n = \"))\n",
        "fac = 1\n",
        "for i in range(2, n + 1):\n",
        "  fac *= i\n",
        "print(str(n) + \"! =\", fac)"
      ],
      "metadata": {
        "colab": {
          "base_uri": "https://localhost:8080/"
        },
        "id": "GO3nHNpeAYLM",
        "outputId": "c4f6fbec-961b-47bd-8324-4bf17de5e6b5"
      },
      "execution_count": null,
      "outputs": [
        {
          "output_type": "stream",
          "name": "stdout",
          "text": [
            "n = 5\n",
            "5! = 120\n"
          ]
        }
      ]
    },
    {
      "cell_type": "markdown",
      "source": [
        "6 задание\n",
        "\n"
      ],
      "metadata": {
        "id": "h7DG-1sbAV4O"
      }
    },
    {
      "cell_type": "code",
      "source": [
        "n = int(input(\"n = \"))\n",
        "mark3 = mark4 = mark5 = 0\n",
        "mark_lst = [int(input(\"mark = \")) for i in range(1, n + 1)]\n",
        "for mark in mark_lst:\n",
        "  if mark == 3:\n",
        "    mark3 += 1\n",
        "  if mark == 4:\n",
        "    mark4 += 1\n",
        "  if mark == 5:\n",
        "    mark5 += 1\n",
        "if mark3 == mark4 == mark5:\n",
        "  print(\" = \")\n",
        "elif mark3 == max(mark3,mark4, mark5):\n",
        "  print(3)\n",
        "elif mark4 == max(mark4, mark5):\n",
        "  print(4)\n",
        "else:\n",
        "  print(5)"
      ],
      "metadata": {
        "colab": {
          "base_uri": "https://localhost:8080/"
        },
        "id": "07VhVqk7AU7K",
        "outputId": "0d065bc5-9834-44c2-a68b-872682311c1d"
      },
      "execution_count": null,
      "outputs": [
        {
          "output_type": "stream",
          "name": "stdout",
          "text": [
            "n = 3\n",
            "mark = 3\n",
            "mark = 4\n",
            "mark = 5\n",
            " = \n"
          ]
        }
      ]
    },
    {
      "cell_type": "markdown",
      "source": [
        "7 задание"
      ],
      "metadata": {
        "id": "FqNQt343E2Pi"
      }
    },
    {
      "cell_type": "code",
      "source": [
        "a = int(input(\" a = \"))\n",
        "b = int(input(\" b = \"))\n",
        "number = 0\n",
        "num_lst = [i for i in range(a, b + 1)]\n",
        "for i in num_lst:\n",
        "  if i % 3 == 0:\n",
        "    number += 1\n",
        "print(number)"
      ],
      "metadata": {
        "colab": {
          "base_uri": "https://localhost:8080/"
        },
        "id": "gT4D_0-9E5BN",
        "outputId": "e7277d63-3a28-4101-c000-5e835488b069"
      },
      "execution_count": null,
      "outputs": [
        {
          "output_type": "stream",
          "name": "stdout",
          "text": [
            " a = 1\n",
            " b = 13\n",
            "4\n"
          ]
        }
      ]
    },
    {
      "cell_type": "markdown",
      "source": [
        "8 задание"
      ],
      "metadata": {
        "id": "mA5wm8YZFeWE"
      }
    },
    {
      "cell_type": "code",
      "source": [
        "dv_lst = [i for i in range(10,100) if ((i % 10 * int(i / 10)) * 3 == i)]\n",
        "print(*dv_lst)"
      ],
      "metadata": {
        "colab": {
          "base_uri": "https://localhost:8080/"
        },
        "id": "cdofwpu5Fgr6",
        "outputId": "ac456005-9c3c-4262-bfc0-5ded4360cc10"
      },
      "execution_count": null,
      "outputs": [
        {
          "output_type": "stream",
          "name": "stdout",
          "text": [
            "15 24\n"
          ]
        }
      ]
    },
    {
      "cell_type": "markdown",
      "source": [
        "9 задание"
      ],
      "metadata": {
        "id": "li3NTlLaHd7D"
      }
    },
    {
      "cell_type": "code",
      "source": [
        "sal1 = 0\n",
        "flag = 0\n",
        "for i in range(1,11):\n",
        "  sal2 = int(input(\"chislo = \"))\n",
        "  if sal1 > sal2:\n",
        "    flag = 1\n",
        "  sal1 = sal2\n",
        "if flag == 1: print(\"не возрастает\")\n",
        "else: print(\"возрастает\")"
      ],
      "metadata": {
        "colab": {
          "base_uri": "https://localhost:8080/"
        },
        "id": "RGSTdvvqHfib",
        "outputId": "d7b02651-6e8e-44fc-b2a0-925348d27985"
      },
      "execution_count": null,
      "outputs": [
        {
          "output_type": "stream",
          "name": "stdout",
          "text": [
            "chislo = 2\n",
            "chislo = 1\n",
            "chislo = 3\n",
            "chislo = 2\n",
            "chislo = 4\n",
            "chislo = 5\n",
            "chislo = 6\n",
            "chislo = 7\n",
            "chislo = 8\n",
            "chislo = 9\n",
            "не возрастает\n"
          ]
        }
      ]
    },
    {
      "cell_type": "markdown",
      "source": [
        "10 задание"
      ],
      "metadata": {
        "id": "TrBAehHnIv99"
      }
    },
    {
      "cell_type": "code",
      "source": [
        "n = int(input(\"n = \"))\n",
        "n_lst = [int(input(\"chislo = \")) for i in range(1, n)]\n",
        "for i in range(1,n + 1):\n",
        "  if i not in n_lst:\n",
        "    print(i)"
      ],
      "metadata": {
        "colab": {
          "base_uri": "https://localhost:8080/"
        },
        "id": "bqbHLRD-Ix3-",
        "outputId": "c46f7682-fd21-4ea2-ff8f-64e6b8f4aecd"
      },
      "execution_count": null,
      "outputs": [
        {
          "output_type": "stream",
          "name": "stdout",
          "text": [
            "n = 5\n",
            "chislo = 1\n",
            "chislo = 4\n",
            "chislo = 3\n",
            "chislo = 5\n",
            "2\n"
          ]
        }
      ]
    },
    {
      "cell_type": "code",
      "source": [
        ""
      ],
      "metadata": {
        "id": "WHEtlIFiJkfL"
      },
      "execution_count": null,
      "outputs": []
    },
    {
      "cell_type": "code",
      "source": [
        ""
      ],
      "metadata": {
        "id": "7S1h7E5dI-Kf"
      },
      "execution_count": null,
      "outputs": []
    }
  ]
}