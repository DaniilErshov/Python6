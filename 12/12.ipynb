{
  "nbformat": 4,
  "nbformat_minor": 0,
  "metadata": {
    "colab": {
      "name": "Untitled18.ipynb",
      "provenance": [],
      "collapsed_sections": [],
      "authorship_tag": "ABX9TyNw0pBXd9f9F42YDYe4k+9n",
      "include_colab_link": true
    },
    "kernelspec": {
      "name": "python3",
      "display_name": "Python 3"
    },
    "language_info": {
      "name": "python"
    }
  },
  "cells": [
    {
      "cell_type": "markdown",
      "metadata": {
        "id": "view-in-github",
        "colab_type": "text"
      },
      "source": [
        "<a href=\"https://colab.research.google.com/github/DaniilErshov/Python6/blob/main/12.ipynb\" target=\"_parent\"><img src=\"https://colab.research.google.com/assets/colab-badge.svg\" alt=\"Open In Colab\"/></a>"
      ]
    },
    {
      "cell_type": "markdown",
      "source": [
        "10 задание"
      ],
      "metadata": {
        "id": "lXvp7_Bbc9If"
      }
    },
    {
      "cell_type": "code",
      "execution_count": null,
      "metadata": {
        "colab": {
          "base_uri": "https://localhost:8080/"
        },
        "id": "um3N-cKLc4Xk",
        "outputId": "aa050cf4-5d99-454d-a3d1-66c1bba9587d"
      },
      "outputs": [
        {
          "output_type": "stream",
          "name": "stdout",
          "text": [
            "text = aaba\n",
            "no\n"
          ]
        }
      ],
      "source": [
        "text = input(\"text = \")\n",
        "text = sorted(text)\n",
        "k = 0\n",
        "for sybm in text:\n",
        "  if text.count(sybm) % 2 ==  1 and k == 0:\n",
        "    k = 1\n",
        "  elif text.count(sybm) % 2 ==  1 and k == 1:\n",
        "    k = 2\n",
        "  if text.count(sybm) % 2 == 0:\n",
        "    k == 0\n",
        "if k == 0 or k == 1:\n",
        "    print(\"yes\")\n",
        "else:\n",
        "    print(\"no\")"
      ]
    },
    {
      "cell_type": "markdown",
      "source": [
        "9 задание"
      ],
      "metadata": {
        "id": "KDXu1bycf_Kv"
      }
    },
    {
      "cell_type": "code",
      "source": [
        "from collections import defaultdict\n",
        "n = int(input(\"n = \"))\n",
        "people_dict = defaultdict(list)\n",
        "people_count = dict()\n",
        "for i in range(n - 1):\n",
        "  tmp = input(\"пара = \")\n",
        "  tmp = tmp.split()\n",
        "  people_dict[tmp[0]] = tmp[1]\n",
        "\n",
        "all = set([*people_dict.keys(), *people_dict.values()])\n",
        "\n",
        "for i in all:\n",
        "  if i in people_dict.keys():\n",
        "    people_count[i] = 1\n",
        "    tmp_key = i\n",
        "    while people_dict[tmp_key] in people_dict.keys():\n",
        "      people_count[i] += 1\n",
        "      tmp_key = people_dict[tmp_key] \n",
        "  else: people_count[i] = 0\n",
        "print(sorted(people_count.items()))"
      ],
      "metadata": {
        "colab": {
          "base_uri": "https://localhost:8080/"
        },
        "id": "zEmFF0Gef-3A",
        "outputId": "7f3634fc-b69a-4a4c-d678-1052f8bb09d9"
      },
      "execution_count": null,
      "outputs": [
        {
          "output_type": "stream",
          "name": "stdout",
          "text": [
            "n = 9\n",
            "пара = Alexei Peter_I\n",
            "пара = Anna Peter_I\n",
            "пара = Elizabeth Peter_I\n",
            "пара = Peter_II Alexei\n",
            "пара = Peter_III Anna\n",
            "пара = Paul_I Peter_III\n",
            "пара = Alexander_I Paul_I\n",
            "пара = Nicholaus_I Paul_I\n",
            "[('Alexander_I', 4), ('Alexei', 1), ('Anna', 1), ('Elizabeth', 1), ('Nicholaus_I', 4), ('Paul_I', 3), ('Peter_I', 0), ('Peter_II', 2), ('Peter_III', 2)]\n"
          ]
        }
      ]
    },
    {
      "cell_type": "markdown",
      "source": [
        "8 задание"
      ],
      "metadata": {
        "id": "ATaz7xrT5Rco"
      }
    },
    {
      "cell_type": "code",
      "source": [
        "import random\n",
        "n = (input(\"n = \"))\n",
        "answer = random.randint(1, int(n))\n",
        "print(str(answer))\n",
        "help = [str(i) for i in range(1,int(n)+1)]\n",
        "s = input(\"нужное число есть среди чисел: \")\n",
        "while s != \"помогите\" and s != str(answer):\n",
        "  s = s.split()\n",
        "  if (str(answer) in s): print('yes')\n",
        "  else: \n",
        "    print(\"no\")\n",
        "    help = set(help).difference(set(s))\n",
        "    help = help.union(str(answer))\n",
        "  s = input(\"нужное число есть среди чисел: \")\n",
        "if (s == \"помогите\"):\n",
        "  print(help)\n",
        "else:\n",
        "  print(\"угадал\")"
      ],
      "metadata": {
        "colab": {
          "base_uri": "https://localhost:8080/"
        },
        "id": "Ol1WM1pP5S7P",
        "outputId": "282cf233-10d1-49f6-fa04-3008aff55e9b"
      },
      "execution_count": 1,
      "outputs": [
        {
          "output_type": "stream",
          "name": "stdout",
          "text": [
            "n = 20\n",
            "2\n",
            "нужное число есть среди чисел: 1 2 3 4 5 6 7 8 9\n",
            "yes\n",
            "нужное число есть среди чисел: 1 3 5 6 8 7 9 \n",
            "no\n",
            "нужное число есть среди чисел: помогите\n",
            "{'4', '17', '12', '10', '13', '14', '16', '2', '19', '15', '20', '11', '18'}\n"
          ]
        }
      ]
    },
    {
      "cell_type": "markdown",
      "source": [
        "7 задание"
      ],
      "metadata": {
        "id": "0XwKwPxlN-ku"
      }
    },
    {
      "cell_type": "code",
      "source": [
        "n = int(input(\"n = \"))\n",
        "buy_dict = dict()\n",
        "for i in range(n):\n",
        "  s = input(\"s = \")\n",
        "  s = s.split()\n",
        "  if s[0] in buy_dict.keys():\n",
        "    if s[1] in buy_dict[s[0]].keys():\n",
        "      buy_dict[s[0]][s[1]] += int(s[2])\n",
        "    else:\n",
        "      buy_dict[s[0]][s[1]] = int(s[2])\n",
        "  else:\n",
        "    tmp = {s[1]: int(s[2])}\n",
        "    buy_dict[s[0]] = tmp\n",
        "  print(buy_dict)\n"
      ],
      "metadata": {
        "colab": {
          "base_uri": "https://localhost:8080/"
        },
        "id": "RWW6CcrFNpYd",
        "outputId": "8dd2b5eb-dc92-4d81-c126-dca142841ccb"
      },
      "execution_count": null,
      "outputs": [
        {
          "output_type": "stream",
          "name": "stdout",
          "text": [
            "n = 6\n",
            "s = Иванов Пепперони 1\n",
            "{'Иванов': {'Пепперони': 1}}\n",
            "s = Петров Де-Люкс 2\n",
            "{'Иванов': {'Пепперони': 1}, 'Петров': {'Де-Люкс': 2}}\n",
            "s = Иванов Мясная 3\n",
            "{'Иванов': {'Пепперони': 1, 'Мясная': 3}, 'Петров': {'Де-Люкс': 2}}\n",
            "s = Иванов Мексиканская 2\n",
            "{'Иванов': {'Пепперони': 1, 'Мясная': 3, 'Мексиканская': 2}, 'Петров': {'Де-Люкс': 2}}\n",
            "s = Иванов Пепперони 2\n",
            "{'Иванов': {'Пепперони': 3, 'Мясная': 3, 'Мексиканская': 2}, 'Петров': {'Де-Люкс': 2}}\n",
            "s = Петров Интересная 5\n",
            "{'Иванов': {'Пепперони': 3, 'Мясная': 3, 'Мексиканская': 2}, 'Петров': {'Де-Люкс': 2, 'Интересная': 5}}\n"
          ]
        }
      ]
    },
    {
      "cell_type": "markdown",
      "source": [
        "6 задание"
      ],
      "metadata": {
        "id": "XFSihz3-U9en"
      }
    },
    {
      "cell_type": "code",
      "source": [
        "n = int(input(\"n = \"))\n",
        "synonims = dict()\n",
        "for i in range(n):\n",
        "  s = input(\"пара слов \")\n",
        "  s = s.split(\" - \")\n",
        "  synonims[s[0]] = s[1]\n",
        "s = input(\"синоним какого слова \")\n",
        "if s in synonims.keys():\n",
        "  print(synonims[s])\n",
        "if s in synonims.values():\n",
        "  for i, k in synonims.items():\n",
        "    if k == s:\n",
        "      print(i)"
      ],
      "metadata": {
        "colab": {
          "base_uri": "https://localhost:8080/"
        },
        "id": "Qf7gWVbsVABW",
        "outputId": "857ad691-7dd7-4792-a20b-f5a8e02d8b40"
      },
      "execution_count": null,
      "outputs": [
        {
          "output_type": "stream",
          "name": "stdout",
          "text": [
            "n = 3\n",
            "пара слов Привет - Здравствуйте\n",
            "пара слов Печально - Грустно\n",
            "пара слов Весело - Радостно\n",
            "синоним какого слова Радостно\n",
            "Весело\n"
          ]
        }
      ]
    },
    {
      "cell_type": "markdown",
      "source": [
        "5 задача"
      ],
      "metadata": {
        "id": "vZ6iQlPccpKS"
      }
    },
    {
      "cell_type": "code",
      "source": [
        "s = input(\"s = \")\n",
        "s = list(s)\n",
        "tmp = dict()\n",
        "for i in s:\n",
        "  if i not in tmp.keys(): \n",
        "    tmp[i] = s.count(i)\n",
        "print(tmp)"
      ],
      "metadata": {
        "colab": {
          "base_uri": "https://localhost:8080/"
        },
        "id": "8yLZhbcBcowp",
        "outputId": "03f19c4e-bcc4-4ada-ef7c-b100652f09dc"
      },
      "execution_count": null,
      "outputs": [
        {
          "output_type": "stream",
          "name": "stdout",
          "text": [
            "s = Здесь что-то написано\n",
            "{'З': 1, 'д': 1, 'е': 1, 'с': 2, 'ь': 1, ' ': 2, 'ч': 1, 'т': 2, 'о': 3, '-': 1, 'н': 2, 'а': 2, 'п': 1, 'и': 1}\n"
          ]
        }
      ]
    },
    {
      "cell_type": "markdown",
      "source": [
        "4 задача"
      ],
      "metadata": {
        "id": "Mr1vQ8pieEG0"
      }
    },
    {
      "cell_type": "code",
      "source": [
        "goods = {\n",
        "    'Лампа': '12345',\n",
        "    'Стол': '23456',\n",
        "    'Диван': '34567',\n",
        "    'Стул': '45678',\n",
        "}\n",
        "\n",
        "store = {\n",
        "    '12345': [\n",
        "              {'quantity': 27, 'price': 42},\n",
        "              ],\n",
        "    '23456': [\n",
        "              {'quantity': 22, 'price': 510},\n",
        "              {'quantity': 32, 'price': 520},\n",
        "              ],\n",
        "    '34567': [\n",
        "              {'quantity': 2, 'price': 1200},\n",
        "              {'quantity': 1, 'price': 1150},\n",
        "              ],\n",
        "    '45678': [\n",
        "              {'quantity': 50, 'price': 100},\n",
        "              {'quantity': 12, 'price': 95},\n",
        "              {'quantity': 43, 'price': 97},\n",
        "              ],\n",
        "         }\n",
        "itog = dict\n",
        "for i in goods:\n",
        "  sum = 0\n",
        "  number = 0\n",
        "  for k in range(len(store[goods[i]])):\n",
        "    sum += store[goods[i]][k]['quantity'] * store[goods[i]][k]['price']\n",
        "    number += store[goods[i]][k]['quantity']\n",
        "  print(i, number, \"шт\", sum, \"рублей\")"
      ],
      "metadata": {
        "colab": {
          "base_uri": "https://localhost:8080/"
        },
        "id": "brHZpALQeFR9",
        "outputId": "d496335f-474c-4acc-ce4f-8132f3b38700"
      },
      "execution_count": null,
      "outputs": [
        {
          "output_type": "stream",
          "name": "stdout",
          "text": [
            "Лампа 27 шт 1134 рублей\n",
            "Стол 54 шт 27860 рублей\n",
            "Диван 3 шт 3550 рублей\n",
            "Стул 105 шт 10311 рублей\n"
          ]
        }
      ]
    }
  ]
}
