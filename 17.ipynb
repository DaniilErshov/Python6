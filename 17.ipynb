{
 "cells": [
  {
   "cell_type": "code",
   "execution_count": 23,
   "id": "13bdee82",
   "metadata": {},
   "outputs": [
    {
     "name": "stdout",
     "output_type": "stream",
     "text": [
      "0: []\n",
      "1: ['5', '264', '54']\n",
      "2: ['2']\n",
      "3: []\n",
      "4: []\n",
      "5: ['2']\n",
      "6: []\n",
      "7: ['2']\n",
      "8: []\n",
      "9: ['2']\n",
      "331\n"
     ]
    }
   ],
   "source": [
    "with open(\"C:/files/numbers.txt\") as numbers:\n",
    "    answer = 0\n",
    "    for i, s in enumerate(numbers):\n",
    "        print(f'{i}: {s.split()}')\n",
    "        answer += sum([int(k) for k in s.split()])\n",
    "    print(answer)\n",
    "with open(\"C:/files/answers.txt\", \"w\") as answers:\n",
    "    answers.write(str(answer))"
   ]
  },
  {
   "cell_type": "code",
   "execution_count": 47,
   "id": "b5163bfd",
   "metadata": {},
   "outputs": [],
   "source": [
    "with open(\"C:/files/dzen.txt\") as dzen:\n",
    "    sp = dzen.readlines()[::-1]\n",
    "    with open(\"C:/files/dzenReverse.txt\",\"w\") as dzenReverse:\n",
    "        for i in range(len(sp)): dzenReverse.write(sp[i])"
   ]
  },
  {
   "cell_type": "code",
   "execution_count": 51,
   "id": "48e19291",
   "metadata": {},
   "outputs": [
    {
     "name": "stdout",
     "output_type": "stream",
     "text": [
      "652\n",
      "137\n",
      "19\n"
     ]
    }
   ],
   "source": [
    "with open(\"C:/files/dzen.txt\") as dzen:\n",
    "    bukva = 0\n",
    "    slova = 0\n",
    "    stroki = 0\n",
    "    for s in dzen:\n",
    "        slova += len(s.split())\n",
    "        for sybm in s:\n",
    "            if sybm.isalpha(): bukva += 1\n",
    "        stroki += 1\n",
    "    print(bukva)\n",
    "    print(slova)\n",
    "    print(stroki)"
   ]
  },
  {
   "cell_type": "code",
   "execution_count": 53,
   "id": "bc5361ca",
   "metadata": {},
   "outputs": [],
   "source": [
    "import os\n",
    "from os.path import join, getsize"
   ]
  },
  {
   "cell_type": "code",
   "execution_count": 56,
   "id": "37d38e6f",
   "metadata": {},
   "outputs": [
    {
     "name": "stdout",
     "output_type": "stream",
     "text": [
      "C:/123 consumes 106842 bytes in 3 non-directory files\n",
      "C:/123\\.git consumes 606 bytes in 5 non-directory files\n",
      "C:/123\\.git\\hooks consumes 23442 bytes in 13 non-directory files\n",
      "C:/123\\.git\\info consumes 240 bytes in 1 non-directory files\n",
      "C:/123\\.git\\logs consumes 703 bytes in 1 non-directory files\n",
      "C:/123\\.git\\logs\\refs consumes 0 bytes in 0 non-directory files\n",
      "C:/123\\.git\\logs\\refs\\heads consumes 511 bytes in 1 non-directory files\n",
      "C:/123\\.git\\logs\\refs\\remotes consumes 0 bytes in 0 non-directory files\n",
      "C:/123\\.git\\logs\\refs\\remotes\\123 consumes 308 bytes in 1 non-directory files\n",
      "C:/123\\.git\\objects consumes 0 bytes in 0 non-directory files\n",
      "C:/123\\.git\\objects\\3a consumes 128 bytes in 1 non-directory files\n",
      "C:/123\\.git\\objects\\81 consumes 22 bytes in 1 non-directory files\n",
      "C:/123\\.git\\objects\\a0 consumes 55 bytes in 1 non-directory files\n",
      "C:/123\\.git\\objects\\cb consumes 159 bytes in 1 non-directory files\n",
      "C:/123\\.git\\objects\\dd consumes 85 bytes in 1 non-directory files\n",
      "C:/123\\.git\\objects\\f2 consumes 22 bytes in 1 non-directory files\n",
      "C:/123\\.git\\objects\\info consumes 0 bytes in 0 non-directory files\n",
      "C:/123\\.git\\objects\\pack consumes 0 bytes in 0 non-directory files\n",
      "C:/123\\.git\\refs consumes 0 bytes in 0 non-directory files\n",
      "C:/123\\.git\\refs\\heads consumes 41 bytes in 1 non-directory files\n",
      "C:/123\\.git\\refs\\remotes consumes 0 bytes in 0 non-directory files\n",
      "C:/123\\.git\\refs\\remotes\\123 consumes 41 bytes in 1 non-directory files\n",
      "C:/123\\.git\\refs\\tags consumes 0 bytes in 0 non-directory files\n",
      "C:/123\\Новая папка consumes 0 bytes in 0 non-directory files\n"
     ]
    }
   ],
   "source": [
    "for root, dirs, files in os.walk('C:/123'):\n",
    "    print(root, \"consumes\", end=\" \")\n",
    "    print(sum(getsize(join(root, name)) for name in files), end=\" \")\n",
    "    print(\"bytes in\", len(files), \"non-directory files\")"
   ]
  },
  {
   "cell_type": "code",
   "execution_count": 75,
   "id": "82736415",
   "metadata": {},
   "outputs": [
    {
     "name": "stdout",
     "output_type": "stream",
     "text": [
      "text = hello\n",
      "path = Users Vadim PycharmProjects hw17\n",
      "name = papa\n",
      "not path\n"
     ]
    }
   ],
   "source": [
    "from pathlib import Path\n",
    "\n",
    "s = input(\"text = \")\n",
    "tmp = input(\"path = \").split()\n",
    "name = \"\".join([input(\"name = \"), \".txt\"])\n",
    "path = \"C:\"\n",
    "for i in tmp:\n",
    "    path = f'{path}/{i}'\n",
    "path = f'{path}/'\n",
    "\n",
    "if Path(path).exists():\n",
    "    path = f'{path}{name}'\n",
    "    if os.path.exists(path):\n",
    "        answer = input(\"хотите перезаписать?\")\n",
    "        if answer == \"yes\":\n",
    "            with open(path, \"w\") as f:\n",
    "                f.write(s)\n",
    "    else:\n",
    "        with open(path, \"w\") as f:\n",
    "                f.write(s)\n",
    "else: print(\"not path\")"
   ]
  },
  {
   "cell_type": "code",
   "execution_count": 82,
   "id": "757804b7",
   "metadata": {},
   "outputs": [
    {
     "name": "stdout",
     "output_type": "stream",
     "text": [
      "0 Ifmmp\u000b",
      "\n",
      "1 Jgnnq\f",
      "\n",
      "2 Khoor\r\n",
      "3 Lipps\n"
     ]
    }
   ],
   "source": [
    "with open(\"C:/files/cesar.txt\") as cesar:\n",
    "    for i, s in enumerate(cesar):\n",
    "        strTmp = \"\"\n",
    "        for sybm in s:\n",
    "            sybmTmp = chr(ord(sybm) + i + 1)\n",
    "            strTmp = f'{strTmp}{sybmTmp}'\n",
    "        print(f'{i} {strTmp}')"
   ]
  },
  {
   "cell_type": "code",
   "execution_count": 90,
   "id": "60a0f90c",
   "metadata": {},
   "outputs": [
    {
     "name": "stdout",
     "output_type": "stream",
     "text": [
      "['Segeev Petr 92', 'Petrov Vasiliy 98']\n"
     ]
    }
   ],
   "source": [
    "with open(\"C:/files/first_tour.txt\") as first_tour:\n",
    "    sp = first_tour.readlines()\n",
    "    sp = [line.rstrip() for line in sp]\n",
    "    sp2 = []\n",
    "    prohod = int(sp[0])\n",
    "    sp.remove(sp[0])\n",
    "    for s in sp:\n",
    "        if int(s.split()[2]) > prohod:\n",
    "            sp2.append(s)\n",
    "    print(sp2)"
   ]
  },
  {
   "cell_type": "code",
   "execution_count": 101,
   "id": "5992e861",
   "metadata": {},
   "outputs": [
    {
     "name": "stdout",
     "output_type": "stream",
     "text": [
      "[('a', 4), ('m', 4), ('l', 1), ('r', 1), ('u', 1), ('y', 1)]\n"
     ]
    }
   ],
   "source": [
    "with open(\"C:/files/chastota.txt\") as chastota:\n",
    "    alphabet = dict()\n",
    "    for s in chastota:\n",
    "        for sybm in s:\n",
    "            sybm = sybm.lower()\n",
    "            if sybm.isalpha():\n",
    "                if sybm in alphabet.keys():\n",
    "                    alphabet[sybm] += 1\n",
    "                else:\n",
    "                    alphabet[sybm] = 1\n",
    "    sotred_alphabet = sorted(sorted(alphabet.items(), key = lambda x: x[0]), key = lambda x: -x[1])\n",
    "print(sotred_alphabet)"
   ]
  },
  {
   "cell_type": "code",
   "execution_count": null,
   "id": "51cf3b46",
   "metadata": {},
   "outputs": [],
   "source": []
  }
 ],
 "metadata": {
  "kernelspec": {
   "display_name": "Python 3 (ipykernel)",
   "language": "python",
   "name": "python3"
  },
  "language_info": {
   "codemirror_mode": {
    "name": "ipython",
    "version": 3
   },
   "file_extension": ".py",
   "mimetype": "text/x-python",
   "name": "python",
   "nbconvert_exporter": "python",
   "pygments_lexer": "ipython3",
   "version": "3.9.7"
  }
 },
 "nbformat": 4,
 "nbformat_minor": 5
}
