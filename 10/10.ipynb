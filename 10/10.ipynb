{
  "nbformat": 4,
  "nbformat_minor": 0,
  "metadata": {
    "colab": {
      "name": "Untitled17.ipynb",
      "provenance": [],
      "authorship_tag": "ABX9TyP/C5VOVwEll0AXtAJB5OGf",
      "include_colab_link": true
    },
    "kernelspec": {
      "name": "python3",
      "display_name": "Python 3"
    },
    "language_info": {
      "name": "python"
    }
  },
  "cells": [
    {
      "cell_type": "markdown",
      "metadata": {
        "id": "view-in-github",
        "colab_type": "text"
      },
      "source": [
        "<a href=\"https://colab.research.google.com/github/DaniilErshov/Python6/blob/main/10.ipynb\" target=\"_parent\"><img src=\"https://colab.research.google.com/assets/colab-badge.svg\" alt=\"Open In Colab\"/></a>"
      ]
    },
    {
      "cell_type": "markdown",
      "source": [
        "1 задание"
      ],
      "metadata": {
        "id": "kdhDRpexAz1I"
      }
    },
    {
      "cell_type": "code",
      "execution_count": 3,
      "metadata": {
        "colab": {
          "base_uri": "https://localhost:8080/"
        },
        "id": "w8vlQjS286jz",
        "outputId": "185efcba-e799-4af1-e0fd-78dfef7f01d4"
      },
      "outputs": [
        {
          "output_type": "stream",
          "name": "stdout",
          "text": [
            "строка: Нужно отнести кольцо в Мордор!\n",
            "['у', 'о', 'о', 'е', 'и', 'о', 'о', 'о', 'о']\n",
            "9\n"
          ]
        }
      ],
      "source": [
        "glas = \"аиеёоуыэюя\"\n",
        "message = input(\"строка: \")\n",
        "glas = list(glas)\n",
        "answer = list()\n",
        "for ch in message:\n",
        "  if ch in glas:\n",
        "    answer.append(ch)\n",
        "print(answer)\n",
        "print(len(answer))\n"
      ]
    },
    {
      "cell_type": "markdown",
      "source": [
        "2 задание"
      ],
      "metadata": {
        "id": "iQxTJYaxCM4j"
      }
    },
    {
      "cell_type": "code",
      "source": [
        "n = int(input(\"n = \"))\n",
        "number_list = [1 if i % 2 == 0 else i % 5 for i in range(n)]\n",
        "print(number_list)"
      ],
      "metadata": {
        "colab": {
          "base_uri": "https://localhost:8080/"
        },
        "id": "-JtHsgegCOAH",
        "outputId": "b32d9653-748f-4e1c-bd61-d6bfdbb540fa"
      },
      "execution_count": 5,
      "outputs": [
        {
          "output_type": "stream",
          "name": "stdout",
          "text": [
            "n = 10\n",
            "[1, 1, 1, 3, 1, 0, 1, 2, 1, 4]\n"
          ]
        }
      ]
    },
    {
      "cell_type": "markdown",
      "source": [
        "3 задание"
      ],
      "metadata": {
        "id": "m2HXhUxpDQdh"
      }
    },
    {
      "cell_type": "code",
      "source": [
        "import random\n",
        "a = [random.uniform(5, 10) for i in range(20)]\n",
        "b = [random.uniform(5, 10) for i in range(20)]\n",
        "c = [max(a[i],b[i]) for i in range(20)]\n",
        "print(a)\n",
        "print(b)\n",
        "print(c)"
      ],
      "metadata": {
        "colab": {
          "base_uri": "https://localhost:8080/"
        },
        "id": "HS7de5TVDSGC",
        "outputId": "b507ad5c-0176-4805-e560-e8b135309b3d"
      },
      "execution_count": 8,
      "outputs": [
        {
          "output_type": "stream",
          "name": "stdout",
          "text": [
            "[5.556321711476404, 8.409512051999151, 9.684585450421533, 8.054860933991868, 9.216031276070328, 6.749611698619476, 5.354284585840906, 6.341610717213645, 9.43167891714846, 9.149336421289028, 9.13741464545425, 8.670260899171392, 7.879006042734106, 5.655420966064208, 9.177750062519678, 6.039424358279161, 7.057240258661871, 6.470810290960414, 5.3189398139616175, 8.738008587326027]\n",
            "[6.88796204252829, 6.827443638277728, 5.008663437049811, 6.7620564248453805, 7.519345807970232, 7.791450944901894, 6.105862926649575, 8.396253295163593, 7.034750441260784, 9.841242747527529, 5.47809624857238, 5.296808603797405, 5.879505870584907, 5.04324475003463, 9.007788626737625, 9.999221022291032, 6.234444630138697, 7.476678619693898, 6.6144885942520855, 9.743826887389627]\n",
            "[6.88796204252829, 8.409512051999151, 9.684585450421533, 8.054860933991868, 9.216031276070328, 7.791450944901894, 6.105862926649575, 8.396253295163593, 9.43167891714846, 9.841242747527529, 9.13741464545425, 8.670260899171392, 7.879006042734106, 5.655420966064208, 9.177750062519678, 9.999221022291032, 7.057240258661871, 7.476678619693898, 6.6144885942520855, 9.743826887389627]\n"
          ]
        }
      ]
    },
    {
      "cell_type": "markdown",
      "source": [
        "4 задание"
      ],
      "metadata": {
        "id": "S20GFbWPEDOg"
      }
    },
    {
      "cell_type": "code",
      "source": [
        "alphabet = 'abcdefg'\n",
        "print(\"1: \", alphabet[:])\n",
        "print(\"2: \", alphabet[::-1])\n",
        "print(\"3\", alphabet[::2])\n",
        "print(\"4\", alphabet[1::2])\n",
        "print(\"5\", alphabet[:0:-1])\n",
        "print(\"6\", alphabet[3:4])\n",
        "print(\"7\", alphabet[len(alphabet) - 3:])\n",
        "print(\"8\", alphabet[3:5])\n",
        "print(\"9\", alphabet[4:2:-1])"
      ],
      "metadata": {
        "colab": {
          "base_uri": "https://localhost:8080/"
        },
        "id": "8BxZfHAdEEr0",
        "outputId": "09090add-5ebd-45e7-b8e2-fc81bb36feb9"
      },
      "execution_count": 24,
      "outputs": [
        {
          "output_type": "stream",
          "name": "stdout",
          "text": [
            "1:  abcdefg\n",
            "2:  gfedcba\n",
            "3 aceg\n",
            "4 bdf\n",
            "5 gfedcb\n",
            "6 d\n",
            "7 efg\n",
            "8 de\n",
            "9 ed\n"
          ]
        }
      ]
    },
    {
      "cell_type": "markdown",
      "source": [
        "5 задание"
      ],
      "metadata": {
        "id": "WXl1kJzgGTGv"
      }
    },
    {
      "cell_type": "code",
      "source": [
        "message = input(\"string = \")\n",
        "start = message.find(\"h\")\n",
        "end = message.rfind(\"h\")\n",
        "print(start,end)\n",
        "print(message[end - 1 : start: -1])"
      ],
      "metadata": {
        "colab": {
          "base_uri": "https://localhost:8080/"
        },
        "id": "4JfSF-1iEcPb",
        "outputId": "1a946b7f-8ef3-477d-fbab-c4d73f3edf93"
      },
      "execution_count": 33,
      "outputs": [
        {
          "output_type": "stream",
          "name": "stdout",
          "text": [
            "string = abchabcdefhabcdef\n",
            "3 10\n",
            "fedcba\n"
          ]
        }
      ]
    },
    {
      "cell_type": "markdown",
      "source": [
        "6 задание"
      ],
      "metadata": {
        "id": "wZEkF5BYI0TM"
      }
    },
    {
      "cell_type": "code",
      "source": [
        "n = int(input(\"n = \"))\n",
        "number_lst = [int(input(\"вставить элемент: \")) for i in range(n)]\n",
        "k = 0\n",
        "i = 0\n",
        "while i + k < n:\n",
        "  if number_lst[i] == 0:\n",
        "    number_lst.append(number_lst.pop(i))\n",
        "    k += 1\n",
        "  else:\n",
        "    i += 1\n",
        "print(number_lst)\n",
        "for i in range(k):\n",
        "  number_lst.pop(n - i - 1)\n",
        "print(number_lst)"
      ],
      "metadata": {
        "colab": {
          "base_uri": "https://localhost:8080/"
        },
        "id": "K4-SPTtfI1-X",
        "outputId": "6ec4b940-3809-4a20-f2a9-113a110d0aec"
      },
      "execution_count": 61,
      "outputs": [
        {
          "output_type": "stream",
          "name": "stdout",
          "text": [
            "n = 8\n",
            "вставить элемент: 1\n",
            "вставить элемент: 2\n",
            "вставить элемент: 0\n",
            "вставить элемент: 0\n",
            "вставить элемент: 0\n",
            "вставить элемент: 3\n",
            "вставить элемент: 4\n",
            "вставить элемент: 0\n",
            "[1, 2, 3, 4, 0, 0, 0, 0]\n",
            "[1, 2, 3, 4]\n"
          ]
        }
      ]
    },
    {
      "cell_type": "markdown",
      "source": [
        "7 задание"
      ],
      "metadata": {
        "id": "k9iHCeV_I2y4"
      }
    },
    {
      "cell_type": "code",
      "source": [
        "number_lst = [[i, i+4, i+8] for i in range(1, 5)]\n",
        "print(number_lst)"
      ],
      "metadata": {
        "colab": {
          "base_uri": "https://localhost:8080/"
        },
        "id": "wC0lnNzFI2Hc",
        "outputId": "2128b757-c268-4ded-ffed-c7da70517484"
      },
      "execution_count": 64,
      "outputs": [
        {
          "output_type": "stream",
          "name": "stdout",
          "text": [
            "[[1, 5, 9], [2, 6, 10], [3, 7, 11], [4, 8, 12]]\n"
          ]
        }
      ]
    },
    {
      "cell_type": "markdown",
      "source": [
        "8 задание"
      ],
      "metadata": {
        "id": "Uc7N2tWOXYe7"
      }
    },
    {
      "cell_type": "code",
      "source": [
        "n = int(input(\"n = \"))\n",
        "k = int(input(\"k = \"))\n",
        "answer = [\"!\" for i in range(n)]\n",
        "for i in range(k):\n",
        "  start, stop = int(input(\"start = \")), int(input(\"stop = \"))\n",
        "  answer[start-1: stop] = [\".\" for i in range(start - 1, stop)]\n",
        "print(\"\".join(answer))"
      ],
      "metadata": {
        "colab": {
          "base_uri": "https://localhost:8080/"
        },
        "id": "OAvWZSk4XZiY",
        "outputId": "a1a82512-45bf-427d-8652-8c14cd444738"
      },
      "execution_count": 69,
      "outputs": [
        {
          "output_type": "stream",
          "name": "stdout",
          "text": [
            "n = 10\n",
            "k = 3\n",
            "start = 8\n",
            "stop = 10\n",
            "start = 2\n",
            "stop = 5\n",
            "start = 3\n",
            "stop = 6\n",
            "!.....!...\n"
          ]
        }
      ]
    },
    {
      "cell_type": "markdown",
      "source": [
        "9 задание"
      ],
      "metadata": {
        "id": "XcRdF0ODhPJr"
      }
    },
    {
      "cell_type": "code",
      "source": [
        "nice_list = [[[1, 2, 3], [4, 5, 6], [7, 8, 9]], [[10, 11, 12], [13, 14, 15], [16, 17, 18]]]\n",
        "very_nice_list = [nice_list[i][j][k] for i in range(2) for j in range(3) for k in range(3)]\n",
        "print(very_nice_list)"
      ],
      "metadata": {
        "colab": {
          "base_uri": "https://localhost:8080/"
        },
        "id": "F-eTY_A4dyXO",
        "outputId": "ede3fda6-eadf-4fbb-9b1a-ec319766eb3c"
      },
      "execution_count": 72,
      "outputs": [
        {
          "output_type": "stream",
          "name": "stdout",
          "text": [
            "[1, 2, 3, 4, 5, 6, 7, 8, 9, 10, 11, 12, 13, 14, 15, 16, 17, 18]\n"
          ]
        }
      ]
    },
    {
      "cell_type": "markdown",
      "source": [
        "10 задание"
      ],
      "metadata": {
        "id": "p6BwZ205h-o2"
      }
    },
    {
      "cell_type": "code",
      "source": [
        "message = input(\"string = \")\n",
        "n = int(input(\"сдвиг = \"))\n",
        "alphabet = \"абвгдеёжзийклмнопрстуфхцчшщъыьэюя\"\n",
        "alphabet = list(alphabet)\n",
        "answer = [\" \" for i in range(len(message))]\n",
        "for i,ch in enumerate(message):\n",
        "  if ch.isalpha():\n",
        "    number = alphabet.index(ch)\n",
        "    answer[i] = alphabet[(number + n) % 33]\n",
        "print(\"\".join(answer))"
      ],
      "metadata": {
        "colab": {
          "base_uri": "https://localhost:8080/"
        },
        "id": "Iqe4t3q0iDoV",
        "outputId": "dfae5ba2-c949-42cc-b01b-3803879ea362"
      },
      "execution_count": 80,
      "outputs": [
        {
          "output_type": "stream",
          "name": "stdout",
          "text": [
            "string = это питон\n",
            "сдвиг = 3\n",
            "ахс тлхср\n"
          ]
        }
      ]
    }
  ]
}
