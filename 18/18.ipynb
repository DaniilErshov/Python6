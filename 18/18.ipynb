{
 "cells": [
  {
   "cell_type": "code",
   "execution_count": 3,
   "id": "48245f71",
   "metadata": {},
   "outputs": [
    {
     "name": "stdout",
     "output_type": "stream",
     "text": [
      "len 19 string is < 3\n",
      "190\n"
     ]
    }
   ],
   "source": [
    "with open(\"C:/files/dzen.txt\") as dzen:\n",
    "    sp = dzen.readlines()\n",
    "    sm = 0\n",
    "    for i, s in enumerate(sp):\n",
    "        if len(s) < 5:\n",
    "            print(f'len {i} string is < 3')\n",
    "        sm += i\n",
    "    print(sm)"
   ]
  },
  {
   "cell_type": "code",
   "execution_count": 4,
   "id": "f100e0ca",
   "metadata": {},
   "outputs": [
    {
     "name": "stdout",
     "output_type": "stream",
     "text": [
      "num = 1\n",
      "num = 2\n",
      "num = 3\n",
      "num = 4\n",
      "num = 5\n",
      "num = 6\n",
      "num = 7\n",
      "num = 8\n",
      "num = 9\n",
      "num = 10\n",
      "num = 11\n",
      "num = 12\n",
      "num = 13\n"
     ]
    },
    {
     "name": "stderr",
     "output_type": "stream",
     "text": [
      "ERROR:root:Internal Python error in the inspect module.\n",
      "Below is the traceback from this internal error.\n",
      "\n"
     ]
    },
    {
     "name": "stdout",
     "output_type": "stream",
     "text": [
      "1/13\n",
      "Traceback (most recent call last):\n",
      "  File \"C:\\Users\\71B3~1\\AppData\\Local\\Temp/ipykernel_7252/3907034201.py\", line 10, in <module>\n",
      "    tmp = 1/tmp\n",
      "ZeroDivisionError: division by zero\n",
      "\n",
      "During handling of the above exception, another exception occurred:\n",
      "\n",
      "Traceback (most recent call last):\n",
      "  File \"C:\\anac\\lib\\site-packages\\IPython\\core\\interactiveshell.py\", line 3444, in run_code\n",
      "    exec(code_obj, self.user_global_ns, self.user_ns)\n",
      "  File \"C:\\Users\\71B3~1\\AppData\\Local\\Temp/ipykernel_7252/3907034201.py\", line 13, in <module>\n",
      "    sys.exit()\n",
      "SystemExit\n",
      "\n",
      "During handling of the above exception, another exception occurred:\n",
      "\n",
      "Traceback (most recent call last):\n",
      "  File \"C:\\anac\\lib\\site-packages\\IPython\\core\\ultratb.py\", line 1101, in get_records\n",
      "    return _fixed_getinnerframes(etb, number_of_lines_of_context, tb_offset)\n",
      "  File \"C:\\anac\\lib\\site-packages\\IPython\\core\\ultratb.py\", line 248, in wrapped\n",
      "    return f(*args, **kwargs)\n",
      "  File \"C:\\anac\\lib\\site-packages\\IPython\\core\\ultratb.py\", line 281, in _fixed_getinnerframes\n",
      "    records = fix_frame_records_filenames(inspect.getinnerframes(etb, context))\n",
      "  File \"C:\\anac\\lib\\inspect.py\", line 1541, in getinnerframes\n",
      "    frameinfo = (tb.tb_frame,) + getframeinfo(tb, context)\n",
      "AttributeError: 'tuple' object has no attribute 'tb_frame'\n"
     ]
    },
    {
     "ename": "TypeError",
     "evalue": "object of type 'NoneType' has no len()",
     "output_type": "error",
     "traceback": [
      "\u001b[1;31m---------------------------------------------------------------------------\u001b[0m",
      "\u001b[1;31mZeroDivisionError\u001b[0m                         Traceback (most recent call last)",
      "\u001b[1;32mC:\\Users\\71B3~1\\AppData\\Local\\Temp/ipykernel_7252/3907034201.py\u001b[0m in \u001b[0;36m<module>\u001b[1;34m\u001b[0m\n\u001b[0;32m      9\u001b[0m             \u001b[0mtmp\u001b[0m \u001b[1;33m=\u001b[0m \u001b[0mrandom\u001b[0m\u001b[1;33m.\u001b[0m\u001b[0mrandint\u001b[0m\u001b[1;33m(\u001b[0m\u001b[1;36m0\u001b[0m\u001b[1;33m,\u001b[0m \u001b[1;36m13\u001b[0m\u001b[1;33m)\u001b[0m\u001b[1;33m\u001b[0m\u001b[1;33m\u001b[0m\u001b[0m\n\u001b[1;32m---> 10\u001b[1;33m             \u001b[0mtmp\u001b[0m \u001b[1;33m=\u001b[0m \u001b[1;36m1\u001b[0m\u001b[1;33m/\u001b[0m\u001b[0mtmp\u001b[0m\u001b[1;33m\u001b[0m\u001b[1;33m\u001b[0m\u001b[0m\n\u001b[0m\u001b[0;32m     11\u001b[0m         \u001b[1;32mexcept\u001b[0m \u001b[0mException\u001b[0m\u001b[1;33m:\u001b[0m\u001b[1;33m\u001b[0m\u001b[1;33m\u001b[0m\u001b[0m\n",
      "\u001b[1;31mZeroDivisionError\u001b[0m: division by zero",
      "\nDuring handling of the above exception, another exception occurred:\n",
      "\u001b[1;31mSystemExit\u001b[0m                                Traceback (most recent call last)",
      "    \u001b[1;31m[... skipping hidden 1 frame]\u001b[0m\n",
      "\u001b[1;32mC:\\Users\\71B3~1\\AppData\\Local\\Temp/ipykernel_7252/3907034201.py\u001b[0m in \u001b[0;36m<module>\u001b[1;34m\u001b[0m\n\u001b[0;32m     12\u001b[0m             \u001b[0mprint\u001b[0m\u001b[1;33m(\u001b[0m\u001b[1;34m\"1/13\"\u001b[0m\u001b[1;33m)\u001b[0m\u001b[1;33m\u001b[0m\u001b[1;33m\u001b[0m\u001b[0m\n\u001b[1;32m---> 13\u001b[1;33m             \u001b[0msys\u001b[0m\u001b[1;33m.\u001b[0m\u001b[0mexit\u001b[0m\u001b[1;33m(\u001b[0m\u001b[1;33m)\u001b[0m\u001b[1;33m\u001b[0m\u001b[1;33m\u001b[0m\u001b[0m\n\u001b[0m",
      "\u001b[1;31mSystemExit\u001b[0m: ",
      "\nDuring handling of the above exception, another exception occurred:\n",
      "\u001b[1;31mTypeError\u001b[0m                                 Traceback (most recent call last)",
      "    \u001b[1;31m[... skipping hidden 1 frame]\u001b[0m\n",
      "\u001b[1;32mC:\\anac\\lib\\site-packages\\IPython\\core\\interactiveshell.py\u001b[0m in \u001b[0;36mshowtraceback\u001b[1;34m(self, exc_tuple, filename, tb_offset, exception_only, running_compiled_code)\u001b[0m\n\u001b[0;32m   2055\u001b[0m                     stb = ['An exception has occurred, use %tb to see '\n\u001b[0;32m   2056\u001b[0m                            'the full traceback.\\n']\n\u001b[1;32m-> 2057\u001b[1;33m                     stb.extend(self.InteractiveTB.get_exception_only(etype,\n\u001b[0m\u001b[0;32m   2058\u001b[0m                                                                      value))\n\u001b[0;32m   2059\u001b[0m                 \u001b[1;32melse\u001b[0m\u001b[1;33m:\u001b[0m\u001b[1;33m\u001b[0m\u001b[1;33m\u001b[0m\u001b[0m\n",
      "\u001b[1;32mC:\\anac\\lib\\site-packages\\IPython\\core\\ultratb.py\u001b[0m in \u001b[0;36mget_exception_only\u001b[1;34m(self, etype, value)\u001b[0m\n\u001b[0;32m    752\u001b[0m         \u001b[0mvalue\u001b[0m \u001b[1;33m:\u001b[0m \u001b[0mexception\u001b[0m \u001b[0mvalue\u001b[0m\u001b[1;33m\u001b[0m\u001b[1;33m\u001b[0m\u001b[0m\n\u001b[0;32m    753\u001b[0m         \"\"\"\n\u001b[1;32m--> 754\u001b[1;33m         \u001b[1;32mreturn\u001b[0m \u001b[0mListTB\u001b[0m\u001b[1;33m.\u001b[0m\u001b[0mstructured_traceback\u001b[0m\u001b[1;33m(\u001b[0m\u001b[0mself\u001b[0m\u001b[1;33m,\u001b[0m \u001b[0metype\u001b[0m\u001b[1;33m,\u001b[0m \u001b[0mvalue\u001b[0m\u001b[1;33m)\u001b[0m\u001b[1;33m\u001b[0m\u001b[1;33m\u001b[0m\u001b[0m\n\u001b[0m\u001b[0;32m    755\u001b[0m \u001b[1;33m\u001b[0m\u001b[0m\n\u001b[0;32m    756\u001b[0m     \u001b[1;32mdef\u001b[0m \u001b[0mshow_exception_only\u001b[0m\u001b[1;33m(\u001b[0m\u001b[0mself\u001b[0m\u001b[1;33m,\u001b[0m \u001b[0metype\u001b[0m\u001b[1;33m,\u001b[0m \u001b[0mevalue\u001b[0m\u001b[1;33m)\u001b[0m\u001b[1;33m:\u001b[0m\u001b[1;33m\u001b[0m\u001b[1;33m\u001b[0m\u001b[0m\n",
      "\u001b[1;32mC:\\anac\\lib\\site-packages\\IPython\\core\\ultratb.py\u001b[0m in \u001b[0;36mstructured_traceback\u001b[1;34m(self, etype, evalue, etb, tb_offset, context)\u001b[0m\n\u001b[0;32m    627\u001b[0m             \u001b[0mchained_exceptions_tb_offset\u001b[0m \u001b[1;33m=\u001b[0m \u001b[1;36m0\u001b[0m\u001b[1;33m\u001b[0m\u001b[1;33m\u001b[0m\u001b[0m\n\u001b[0;32m    628\u001b[0m             out_list = (\n\u001b[1;32m--> 629\u001b[1;33m                 self.structured_traceback(\n\u001b[0m\u001b[0;32m    630\u001b[0m                     \u001b[0metype\u001b[0m\u001b[1;33m,\u001b[0m \u001b[0mevalue\u001b[0m\u001b[1;33m,\u001b[0m \u001b[1;33m(\u001b[0m\u001b[0metb\u001b[0m\u001b[1;33m,\u001b[0m \u001b[0mchained_exc_ids\u001b[0m\u001b[1;33m)\u001b[0m\u001b[1;33m,\u001b[0m\u001b[1;33m\u001b[0m\u001b[1;33m\u001b[0m\u001b[0m\n\u001b[0;32m    631\u001b[0m                     chained_exceptions_tb_offset, context)\n",
      "\u001b[1;32mC:\\anac\\lib\\site-packages\\IPython\\core\\ultratb.py\u001b[0m in \u001b[0;36mstructured_traceback\u001b[1;34m(self, etype, value, tb, tb_offset, number_of_lines_of_context)\u001b[0m\n\u001b[0;32m   1365\u001b[0m         \u001b[1;32melse\u001b[0m\u001b[1;33m:\u001b[0m\u001b[1;33m\u001b[0m\u001b[1;33m\u001b[0m\u001b[0m\n\u001b[0;32m   1366\u001b[0m             \u001b[0mself\u001b[0m\u001b[1;33m.\u001b[0m\u001b[0mtb\u001b[0m \u001b[1;33m=\u001b[0m \u001b[0mtb\u001b[0m\u001b[1;33m\u001b[0m\u001b[1;33m\u001b[0m\u001b[0m\n\u001b[1;32m-> 1367\u001b[1;33m         return FormattedTB.structured_traceback(\n\u001b[0m\u001b[0;32m   1368\u001b[0m             self, etype, value, tb, tb_offset, number_of_lines_of_context)\n\u001b[0;32m   1369\u001b[0m \u001b[1;33m\u001b[0m\u001b[0m\n",
      "\u001b[1;32mC:\\anac\\lib\\site-packages\\IPython\\core\\ultratb.py\u001b[0m in \u001b[0;36mstructured_traceback\u001b[1;34m(self, etype, value, tb, tb_offset, number_of_lines_of_context)\u001b[0m\n\u001b[0;32m   1265\u001b[0m         \u001b[1;32mif\u001b[0m \u001b[0mmode\u001b[0m \u001b[1;32min\u001b[0m \u001b[0mself\u001b[0m\u001b[1;33m.\u001b[0m\u001b[0mverbose_modes\u001b[0m\u001b[1;33m:\u001b[0m\u001b[1;33m\u001b[0m\u001b[1;33m\u001b[0m\u001b[0m\n\u001b[0;32m   1266\u001b[0m             \u001b[1;31m# Verbose modes need a full traceback\u001b[0m\u001b[1;33m\u001b[0m\u001b[1;33m\u001b[0m\u001b[0m\n\u001b[1;32m-> 1267\u001b[1;33m             return VerboseTB.structured_traceback(\n\u001b[0m\u001b[0;32m   1268\u001b[0m                 \u001b[0mself\u001b[0m\u001b[1;33m,\u001b[0m \u001b[0metype\u001b[0m\u001b[1;33m,\u001b[0m \u001b[0mvalue\u001b[0m\u001b[1;33m,\u001b[0m \u001b[0mtb\u001b[0m\u001b[1;33m,\u001b[0m \u001b[0mtb_offset\u001b[0m\u001b[1;33m,\u001b[0m \u001b[0mnumber_of_lines_of_context\u001b[0m\u001b[1;33m\u001b[0m\u001b[1;33m\u001b[0m\u001b[0m\n\u001b[0;32m   1269\u001b[0m             )\n",
      "\u001b[1;32mC:\\anac\\lib\\site-packages\\IPython\\core\\ultratb.py\u001b[0m in \u001b[0;36mstructured_traceback\u001b[1;34m(self, etype, evalue, etb, tb_offset, number_of_lines_of_context)\u001b[0m\n\u001b[0;32m   1122\u001b[0m         \u001b[1;34m\"\"\"Return a nice text document describing the traceback.\"\"\"\u001b[0m\u001b[1;33m\u001b[0m\u001b[1;33m\u001b[0m\u001b[0m\n\u001b[0;32m   1123\u001b[0m \u001b[1;33m\u001b[0m\u001b[0m\n\u001b[1;32m-> 1124\u001b[1;33m         formatted_exception = self.format_exception_as_a_whole(etype, evalue, etb, number_of_lines_of_context,\n\u001b[0m\u001b[0;32m   1125\u001b[0m                                                                tb_offset)\n\u001b[0;32m   1126\u001b[0m \u001b[1;33m\u001b[0m\u001b[0m\n",
      "\u001b[1;32mC:\\anac\\lib\\site-packages\\IPython\\core\\ultratb.py\u001b[0m in \u001b[0;36mformat_exception_as_a_whole\u001b[1;34m(self, etype, evalue, etb, number_of_lines_of_context, tb_offset)\u001b[0m\n\u001b[0;32m   1080\u001b[0m \u001b[1;33m\u001b[0m\u001b[0m\n\u001b[0;32m   1081\u001b[0m \u001b[1;33m\u001b[0m\u001b[0m\n\u001b[1;32m-> 1082\u001b[1;33m         \u001b[0mlast_unique\u001b[0m\u001b[1;33m,\u001b[0m \u001b[0mrecursion_repeat\u001b[0m \u001b[1;33m=\u001b[0m \u001b[0mfind_recursion\u001b[0m\u001b[1;33m(\u001b[0m\u001b[0morig_etype\u001b[0m\u001b[1;33m,\u001b[0m \u001b[0mevalue\u001b[0m\u001b[1;33m,\u001b[0m \u001b[0mrecords\u001b[0m\u001b[1;33m)\u001b[0m\u001b[1;33m\u001b[0m\u001b[1;33m\u001b[0m\u001b[0m\n\u001b[0m\u001b[0;32m   1083\u001b[0m \u001b[1;33m\u001b[0m\u001b[0m\n\u001b[0;32m   1084\u001b[0m         \u001b[0mframes\u001b[0m \u001b[1;33m=\u001b[0m \u001b[0mself\u001b[0m\u001b[1;33m.\u001b[0m\u001b[0mformat_records\u001b[0m\u001b[1;33m(\u001b[0m\u001b[0mrecords\u001b[0m\u001b[1;33m,\u001b[0m \u001b[0mlast_unique\u001b[0m\u001b[1;33m,\u001b[0m \u001b[0mrecursion_repeat\u001b[0m\u001b[1;33m)\u001b[0m\u001b[1;33m\u001b[0m\u001b[1;33m\u001b[0m\u001b[0m\n",
      "\u001b[1;32mC:\\anac\\lib\\site-packages\\IPython\\core\\ultratb.py\u001b[0m in \u001b[0;36mfind_recursion\u001b[1;34m(etype, value, records)\u001b[0m\n\u001b[0;32m    380\u001b[0m     \u001b[1;31m# first frame (from in to out) that looks different.\u001b[0m\u001b[1;33m\u001b[0m\u001b[1;33m\u001b[0m\u001b[0m\n\u001b[0;32m    381\u001b[0m     \u001b[1;32mif\u001b[0m \u001b[1;32mnot\u001b[0m \u001b[0mis_recursion_error\u001b[0m\u001b[1;33m(\u001b[0m\u001b[0metype\u001b[0m\u001b[1;33m,\u001b[0m \u001b[0mvalue\u001b[0m\u001b[1;33m,\u001b[0m \u001b[0mrecords\u001b[0m\u001b[1;33m)\u001b[0m\u001b[1;33m:\u001b[0m\u001b[1;33m\u001b[0m\u001b[1;33m\u001b[0m\u001b[0m\n\u001b[1;32m--> 382\u001b[1;33m         \u001b[1;32mreturn\u001b[0m \u001b[0mlen\u001b[0m\u001b[1;33m(\u001b[0m\u001b[0mrecords\u001b[0m\u001b[1;33m)\u001b[0m\u001b[1;33m,\u001b[0m \u001b[1;36m0\u001b[0m\u001b[1;33m\u001b[0m\u001b[1;33m\u001b[0m\u001b[0m\n\u001b[0m\u001b[0;32m    383\u001b[0m \u001b[1;33m\u001b[0m\u001b[0m\n\u001b[0;32m    384\u001b[0m     \u001b[1;31m# Select filename, lineno, func_name to track frames with\u001b[0m\u001b[1;33m\u001b[0m\u001b[1;33m\u001b[0m\u001b[0m\n",
      "\u001b[1;31mTypeError\u001b[0m: object of type 'NoneType' has no len()"
     ]
    }
   ],
   "source": [
    "import random\n",
    "import sys\n",
    "sum_number = 0\n",
    "with open(\"C:/files/chisla4.txt\", \"w\") as chisla4:\n",
    "    while sum_number < 777:\n",
    "        num = int(input(\"num = \"))\n",
    "        chisla4.write(str(num))\n",
    "        try:\n",
    "            tmp = random.randint(0, 13)\n",
    "            tmp = 1/tmp\n",
    "        except Exception:\n",
    "            print(\"1/13\")\n",
    "            sys.exit()"
   ]
  },
  {
   "cell_type": "code",
   "execution_count": 16,
   "id": "e063fcfe",
   "metadata": {},
   "outputs": [
    {
     "name": "stdout",
     "output_type": "stream",
     "text": [
      "['Nick', 'test@test.ru', '27']\n",
      "['Mike', 'papa@papa.ru', '22']\n",
      "['John', 'tetest.ru', '26']\n",
      "SyntaxError\n",
      "['Papa']\n",
      "ValueError\n"
     ]
    }
   ],
   "source": [
    "def Check_file(sp):\n",
    "    with open(\"C:/files/bad_person.txt\", \"w\") as bad_person:\n",
    "        for s in sp:\n",
    "            try:\n",
    "                tmp = s.split()\n",
    "                print(tmp)\n",
    "                if len(tmp) < 3:\n",
    "                    raise ValueError\n",
    "                if (\"@\" not in tmp[1]) or (\".\" not in tmp[1]):\n",
    "                    raise SyntaxError\n",
    "                if not (tmp[0].isalpha()):\n",
    "                    raise NameError\n",
    "            except ValueError:\n",
    "                print(\"ValueError\")\n",
    "                bad_person.write(s)\n",
    "            except SyntaxError:\n",
    "                print(\"SyntaxError\")\n",
    "                bad_person.write(s)\n",
    "            except NameError:\n",
    "                print(\"NameError\")\n",
    "                bad_person.write(s)\n",
    "            \n",
    "            \n",
    "            \n",
    "                \n",
    "\n",
    "with open(\"C:/files/registration.txt\") as regiatrration:\n",
    "    sp = regiatrration.readlines()\n",
    "    Check_file(sp)"
   ]
  },
  {
   "cell_type": "code",
   "execution_count": 39,
   "id": "a1d95c4f",
   "metadata": {},
   "outputs": [
    {
     "name": "stdout",
     "output_type": "stream",
     "text": [
      "SynatxError 8 ) 4\n",
      "ValueError 1\n",
      "68.0\n"
     ]
    }
   ],
   "source": [
    "with open(\"C:/files/calc.txt\") as calc:\n",
    "    sp = calc.readlines()\n",
    "    sp = [line.rstrip() for line in sp]\n",
    "    sumNumb = 0\n",
    "    value = 0\n",
    "    for s in sp:\n",
    "        tmp = s.split()\n",
    "        try:\n",
    "            if len(tmp) != 3:\n",
    "                raise ValueError\n",
    "            elif not(tmp[0].isdigit()) or not(tmp[2].isdigit()):\n",
    "                raise SyntaxError\n",
    "            if tmp[1] not in \"+-*/\":\n",
    "                raise SyntaxError\n",
    "            if tmp[1] == \"+\": value = int(tmp[0]) + int(tmp[2])\n",
    "            if tmp[1] == \"-\": value = int(tmp[0]) - int(tmp[2])\n",
    "            if tmp[1] == \"*\": value = int(tmp[0]) * int(tmp[2])\n",
    "            if tmp[1] == \"/\": value = int(tmp[0]) / int(tmp[2])\n",
    "        except ValueError:\n",
    "            print(\"ValueError \" + s)\n",
    "            value = 0\n",
    "        except SyntaxError:\n",
    "            print(\"SynatxError \" + s)\n",
    "            value = 0\n",
    "        finally:\n",
    "            sumNumb += value\n",
    "    print(sumNumb)"
   ]
  },
  {
   "cell_type": "code",
   "execution_count": 41,
   "id": "2a1d6dcb",
   "metadata": {},
   "outputs": [
    {
     "name": "stdout",
     "output_type": "stream",
     "text": [
      "Введите имя: papa\n",
      "Выйти из чата - 0.\n",
      "Посмотреть текущий текст чата - 1.\n",
      "Отправить сообщение - 2.\n",
      "0\n"
     ]
    }
   ],
   "source": [
    "name = input('Введите имя: ')\n",
    "print('Выйти из чата - 0.')\n",
    "print('Посмотреть текущий текст чата - 1.')\n",
    "print('Отправить сообщение - 2.')\n",
    "s = input()\n",
    "while s != '0':\n",
    "    if s == '0':\n",
    "        print('Выход из чата.')\n",
    "    elif s == '1':\n",
    "        try:\n",
    "            with open('chat.txt') as inf:\n",
    "                for message in inf:\n",
    "                    print(message, end='')\n",
    "        except FileNotFoundError:\n",
    "            print('Сообщений нет.')\n",
    "    elif s == '2':\n",
    "        message = input('Введите сообщение: ')\n",
    "        with open('chat.txt', 'a') as ouf:\n",
    "            ouf.write(name + ': ' + message + '\\n')\n",
    "    else:\n",
    "        print('Такого действия нет.')\n",
    "    \n",
    "    print('Выйти из чата - 0.')\n",
    "    print('Посмотреть текущий текст чата - 1.')\n",
    "    print('Отправить сообщение - 2.')\n",
    "    s = input()"
   ]
  },
  {
   "cell_type": "code",
   "execution_count": 52,
   "id": "b08571ba",
   "metadata": {},
   "outputs": [
    {
     "name": "stdout",
     "output_type": "stream",
     "text": [
      "['15 + 25', '10 / 2', '7 * 3', '7 - 5', '8 ) 4', '1']\n",
      "Syntax Error do you want change? 8 ) 4\n",
      "yes or no?yes\n",
      "string = 0\n",
      "Syntax Error do you want change? 0\n",
      "yes or no?yes\n",
      "string = 8 + 4\n",
      "Syntax Error do you want change? 1\n",
      "yes or no?yes\n",
      "string = 1 + 1\n",
      "82.0\n"
     ]
    }
   ],
   "source": [
    "with open(\"C:/files/calc.txt\") as calc:\n",
    "    sp = calc.readlines()\n",
    "    sp = [line.rstrip() for line in sp]\n",
    "    print(sp)\n",
    "    sumNumb = 0\n",
    "    i = 0\n",
    "    while i in range(len(sp)):\n",
    "        value = 0\n",
    "        tmp = sp[i].split()\n",
    "        try:\n",
    "            if len(tmp) != 3:\n",
    "                raise SyntaxError\n",
    "            elif not(tmp[0].isdigit()) or not(tmp[2].isdigit()):\n",
    "                raise SyntaxError\n",
    "            if tmp[1] not in [\"+\", \"-\", \"/\", \"*\"]:\n",
    "                raise SyntaxError\n",
    "            if tmp[1] == \"+\": value = int(tmp[0]) + int(tmp[2])\n",
    "            if tmp[1] == \"-\": value = int(tmp[0]) - int(tmp[2])\n",
    "            if tmp[1] == \"*\": value = int(tmp[0]) * int(tmp[2])\n",
    "            if tmp[1] == \"/\": value = int(tmp[0]) / int(tmp[2])\n",
    "        except SyntaxError:\n",
    "            print(\"Syntax Error do you want change? \" + sp[i])\n",
    "            answ = input(\"yes or no?\")\n",
    "            if answ == \"yes\":\n",
    "                sp[i] = input(\"string = \")\n",
    "                i -= 1\n",
    "        finally:\n",
    "            sumNumb += value\n",
    "            i += 1\n",
    "    print(sumNumb)"
   ]
  },
  {
   "cell_type": "code",
   "execution_count": null,
   "id": "e65661c8",
   "metadata": {},
   "outputs": [],
   "source": []
  }
 ],
 "metadata": {
  "kernelspec": {
   "display_name": "Python 3 (ipykernel)",
   "language": "python",
   "name": "python3"
  },
  "language_info": {
   "codemirror_mode": {
    "name": "ipython",
    "version": 3
   },
   "file_extension": ".py",
   "mimetype": "text/x-python",
   "name": "python",
   "nbconvert_exporter": "python",
   "pygments_lexer": "ipython3",
   "version": "3.9.7"
  }
 },
 "nbformat": 4,
 "nbformat_minor": 5
}
