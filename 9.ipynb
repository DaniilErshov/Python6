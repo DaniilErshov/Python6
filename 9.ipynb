{
  "nbformat": 4,
  "nbformat_minor": 0,
  "metadata": {
    "colab": {
      "name": "Untitled15.ipynb",
      "provenance": [],
      "collapsed_sections": [],
      "authorship_tag": "ABX9TyOCbNzAwZbF4t3rMZfRYyxu",
      "include_colab_link": true
    },
    "kernelspec": {
      "name": "python3",
      "display_name": "Python 3"
    },
    "language_info": {
      "name": "python"
    }
  },
  "cells": [
    {
      "cell_type": "markdown",
      "metadata": {
        "id": "view-in-github",
        "colab_type": "text"
      },
      "source": [
        "<a href=\"https://colab.research.google.com/github/DaniilErshov/Python6/blob/main/9.ipynb\" target=\"_parent\"><img src=\"https://colab.research.google.com/assets/colab-badge.svg\" alt=\"Open In Colab\"/></a>"
      ]
    },
    {
      "cell_type": "markdown",
      "source": [
        "1 задание"
      ],
      "metadata": {
        "id": "cjedYUrJP_C6"
      }
    },
    {
      "cell_type": "code",
      "execution_count": null,
      "metadata": {
        "colab": {
          "base_uri": "https://localhost:8080/"
        },
        "id": "3JwQ266tOaim",
        "outputId": "a84d38f9-0bd9-4cfc-b806-194acc326701"
      },
      "outputs": [
        {
          "output_type": "stream",
          "name": "stdout",
          "text": [
            "n = 14\n",
            "[1, 3, 5, 7, 9, 11, 13]\n"
          ]
        }
      ],
      "source": [
        "n = int(input(\"n = \"))\n",
        "n_lst = [i for i in range(1,n+1,2)]\n",
        "print(n_lst)"
      ]
    },
    {
      "cell_type": "markdown",
      "source": [
        "11 задание"
      ],
      "metadata": {
        "id": "Meuz6jI5Qv2J"
      }
    },
    {
      "cell_type": "code",
      "source": [
        "a = [1, 5, 3]\n",
        "b = [1, 5, 1, 5]\n",
        "c = [1, 3, 1, 5, 3, 3]\n",
        "a.extend(b)\n",
        "print(a)\n",
        "t5 = a.count(5)\n",
        "print(t5)\n",
        "a = [tmp for tmp in a if tmp != 5]\n",
        "a.extend(c) \n",
        "t3 = a.count(3)\n",
        "print(a)\n",
        "print(t3)\n"
      ],
      "metadata": {
        "colab": {
          "base_uri": "https://localhost:8080/"
        },
        "id": "nIE0VCCoQxau",
        "outputId": "73182c57-bb2b-43ff-8445-2b7ab4404511"
      },
      "execution_count": null,
      "outputs": [
        {
          "output_type": "stream",
          "name": "stdout",
          "text": [
            "[1, 5, 3, 1, 5, 1, 5]\n",
            "3\n",
            "[1, 3, 1, 1, 1, 3, 1, 5, 3, 3]\n",
            "4\n"
          ]
        }
      ]
    },
    {
      "cell_type": "markdown",
      "source": [
        "15 задание"
      ],
      "metadata": {
        "id": "xrA6gKbaeupb"
      }
    },
    {
      "cell_type": "code",
      "source": [
        "n = int(input(\"сколько выбрать песен: \"))\n",
        "want = []\n",
        "violator_songs = [['World in My Eyes', 4.86],\n",
        "                  ['Sweetest Perfection', 4.43],\n",
        "                  ['Personal Jesus', 4.56],\n",
        "                  ['Halo', 4.9],\n",
        "                  ['Waiting for the Night', 6.07],\n",
        "                  ['Enjoy the Silence', 4.20],\n",
        "                  ['Policy of Truth', 4.76],\n",
        "                  ['Blue Dress', 4.29],\n",
        "                  ['Clean', 5.83]\n",
        "]\n",
        "for i in range(n):\n",
        "  want.append(input(\"name = \"))\n",
        "\n",
        "download = [enum[1] for enum in violator_songs if enum[0] in want]\n",
        "print(sum(download)) \n",
        "\n"
      ],
      "metadata": {
        "colab": {
          "base_uri": "https://localhost:8080/"
        },
        "id": "qFUFTxrbew2c",
        "outputId": "74766ed7-a86f-4454-a0ff-2edda88d104f"
      },
      "execution_count": null,
      "outputs": [
        {
          "output_type": "stream",
          "name": "stdout",
          "text": [
            "сколько выбрать песен: 3\n",
            "name = Halo\n",
            "name = Enjoy the Silence\n",
            "name = Clean\n",
            "14.930000000000001\n"
          ]
        }
      ]
    },
    {
      "cell_type": "markdown",
      "source": [
        "16 задание"
      ],
      "metadata": {
        "id": "dO5ChDtFMjVt"
      }
    },
    {
      "cell_type": "code",
      "source": [
        "list1 = []\n",
        "\n",
        "list2 = []\n",
        "for i in range(3): list1.append(int(input(\"первый список = \")))\n",
        "for i in range(7): list2.append(int(input(\"второй список = \")))\n",
        "list1.extend(list2)\n",
        "list1 = list(set(list1))\n",
        "print(list1)"
      ],
      "metadata": {
        "colab": {
          "base_uri": "https://localhost:8080/"
        },
        "id": "FnM6CtwGMpi5",
        "outputId": "e3f38324-20b7-48a2-f629-87266cd73adf"
      },
      "execution_count": null,
      "outputs": [
        {
          "output_type": "stream",
          "name": "stdout",
          "text": [
            "первый список = 1\n",
            "первый список = 2\n",
            "первый список = 3\n",
            "второй список = 4\n",
            "второй список = 5\n",
            "второй список = 6\n",
            "второй список = 7\n",
            "второй список = 8\n",
            "второй список = 1\n",
            "второй список = 2\n",
            "[1, 2, 3, 4, 5, 6, 7, 8]\n"
          ]
        }
      ]
    },
    {
      "cell_type": "markdown",
      "source": [
        "17 задание"
      ],
      "metadata": {
        "id": "bE_ZjWNnOS3o"
      }
    },
    {
      "cell_type": "code",
      "source": [
        "person_list = []\n",
        "konki_list = []\n",
        "bron = []\n",
        "n = int(input(\"колво людей: \"))\n",
        "for i in range(n): person_list.append(int(input(\"Размер ноги: \")))\n",
        "k = int(input(\"колво размеров: \"))\n",
        "for i in range(k): konki_list.append(int(input(\"Коньки размера есть: \")))\n",
        "for person in person_list:\n",
        "  tmp = [konki for konki in konki_list if konki >= person]\n",
        "  if len(tmp) != 0: \n",
        "    konki_list.remove(min(tmp))\n",
        "    bron.append(min(tmp))\n",
        "  tmp.clear()\n",
        "print(len(bron))"
      ],
      "metadata": {
        "colab": {
          "base_uri": "https://localhost:8080/"
        },
        "id": "X3SDwxxVOUMD",
        "outputId": "bab7a9fe-4310-487e-d0c4-9c4b58040072"
      },
      "execution_count": null,
      "outputs": [
        {
          "output_type": "stream",
          "name": "stdout",
          "text": [
            "колво людей: 3\n",
            "Размер ноги: 40\n",
            "Размер ноги: 45\n",
            "Размер ноги: 45\n",
            "колво размеров: 4\n",
            "Коньки размера есть: 39\n",
            "Коньки размера есть: 40\n",
            "Коньки размера есть: 41\n",
            "Коньки размера есть: 42\n",
            "1\n"
          ]
        }
      ]
    },
    {
      "cell_type": "markdown",
      "source": [
        "18 задание"
      ],
      "metadata": {
        "id": "0AlsE1NCUR4P"
      }
    },
    {
      "cell_type": "code",
      "source": [
        "n, k = int(input(\"колво людей: \")), int(input(\"всегда выбывает номер: \"))\n",
        "circle_list = [i+1 for i in range(n)]\n",
        "print(circle_list)\n",
        "start = 0\n",
        "while len(circle_list) > 1:\n",
        "  print(\"считаем с \", circle_list[start % len(circle_list)])\n",
        "  start = (start + k - 1) % len(circle_list)\n",
        "  print(\"выбывает\", circle_list[start])\n",
        "  circle_list.pop(start)\n",
        "  print(circle_list)\n"
      ],
      "metadata": {
        "colab": {
          "base_uri": "https://localhost:8080/"
        },
        "id": "AJCtOt0cBcru",
        "outputId": "62e80edb-41ee-41a4-d399-6318ad973c76"
      },
      "execution_count": null,
      "outputs": [
        {
          "output_type": "stream",
          "name": "stdout",
          "text": [
            "колво людей: 5\n",
            "всегда выбывает номер: 7\n",
            "[1, 2, 3, 4, 5]\n",
            "считаем с  1\n",
            "выбывает 2\n",
            "[1, 3, 4, 5]\n",
            "считаем с  3\n",
            "выбывает 5\n",
            "[1, 3, 4]\n",
            "считаем с  1\n",
            "выбывает 1\n",
            "[3, 4]\n",
            "считаем с  3\n",
            "выбывает 3\n",
            "[4]\n"
          ]
        }
      ]
    },
    {
      "cell_type": "markdown",
      "source": [
        "19 задание"
      ],
      "metadata": {
        "id": "Briv1szZsTy7"
      }
    },
    {
      "cell_type": "code",
      "source": [
        "n, k = int(input(\"колво людей: \")), int(input(\"колво долговых расписок: \"))\n",
        "summ_list = [[0] * 3 for i in range(k)]\n",
        "itog_list = [[i + 1, 0] for i in range(n)]\n",
        "for i in range(k):\n",
        "  print(\"расписка\", i)\n",
        "  summ_list[i][0] = int(input(\"кому \"))\n",
        "  summ_list[i][1] = int(input(\"от кого \"))\n",
        "  summ_list[i][2] = int(input(\"сумма \"))\n",
        "for person in summ_list:\n",
        "  itog_list[person[0] - 1][1] -= person[2]\n",
        "  itog_list[person[1] - 1][1] += person[2]\n",
        "  print(itog_list)"
      ],
      "metadata": {
        "colab": {
          "base_uri": "https://localhost:8080/"
        },
        "id": "WdpS8ERzpHT2",
        "outputId": "6838341d-3505-4e0e-a58d-0eb0dc5e116e"
      },
      "execution_count": null,
      "outputs": [
        {
          "output_type": "stream",
          "name": "stdout",
          "text": [
            "колво людей: 3\n",
            "колво долговых расписок: 2\n",
            "расписка 0\n",
            "кому 1\n",
            "от кого 3\n",
            "сумма 20\n",
            "расписка 1\n",
            "кому 2\n",
            "от кого 3\n",
            "сумма 50\n",
            "[[1, -20], [2, 0], [3, 20]]\n",
            "[[1, -20], [2, -50], [3, 70]]\n"
          ]
        }
      ]
    },
    {
      "cell_type": "markdown",
      "source": [
        "20 задание"
      ],
      "metadata": {
        "id": "5HDm-JO_5VM7"
      }
    },
    {
      "cell_type": "code",
      "source": [
        "n =  int(input(\"колво чисел: \"))\n",
        "number_list = [int(input(\"number_list + \")) for i in range(n)]\n",
        "flag = 0\n",
        "i,j,k = 1,0,0\n",
        "check_list = []\n",
        "while flag == 0:\n",
        "  check_list = number_list[0:i]\n",
        "  check_list = check_list[::-1]\n",
        "  print(check_list)\n",
        "  tmp = [*number_list, *check_list]\n",
        "  print(tmp)\n",
        "  k = 0\n",
        "  j = len(tmp) - 1\n",
        "  flag = 1\n",
        "  while k <= j and flag != 0:\n",
        "    if tmp[k] == tmp[j]: flag = 1\n",
        "    else: flag = 0\n",
        "    k += 1\n",
        "    j -= 1\n",
        "  i += 1\n",
        "  tmp.clear()\n",
        "print(check_list)"
      ],
      "metadata": {
        "id": "IuIi_Q405Wje",
        "colab": {
          "base_uri": "https://localhost:8080/"
        },
        "outputId": "07a4dc3d-526e-4e60-8c3a-68966a9ea991"
      },
      "execution_count": null,
      "outputs": [
        {
          "output_type": "stream",
          "name": "stdout",
          "text": [
            "колво чисел: 5\n",
            "number_list + 2\n",
            "number_list + 1\n",
            "number_list + 2\n",
            "number_list + 2\n",
            "number_list + 2\n",
            "[2]\n",
            "[2, 1, 2, 2, 2, 2]\n",
            "[1, 2]\n",
            "[2, 1, 2, 2, 2, 1, 2]\n",
            "[1, 2]\n"
          ]
        }
      ]
    }
  ]
}