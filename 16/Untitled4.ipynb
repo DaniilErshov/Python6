{
 "cells": [
  {
   "cell_type": "code",
   "execution_count": 56,
   "id": "ece87587",
   "metadata": {},
   "outputs": [
    {
     "name": "stdout",
     "output_type": "stream",
     "text": [
      "t1\n"
     ]
    }
   ],
   "source": [
    "def find_key(site, key):\n",
    "    if key in site.keys():\n",
    "        return site[key]\n",
    "    else:\n",
    "        for i in site.keys():\n",
    "            if type(site[i]) == dict:\n",
    "                result = find_key(site[i], key)\n",
    "                if result != None:\n",
    "                    return result\n",
    "       \n",
    "site = {\n",
    "    'html': {\n",
    "        'head': {\n",
    "            'title': {\n",
    "                'title1': \"t1\",\n",
    "                'title2': \"t2\"\n",
    "            }\n",
    "        },\n",
    "        'body': {\n",
    "            'h2': \"здесь будет\",\n",
    "            'div': \"block\",\n",
    "            'p': \"abzac\"\n",
    "        }\n",
    "        \n",
    "    }\n",
    "}\n",
    "\n",
    "\n",
    "key = 'head'\n",
    "print(find_key(site,'title1'))"
   ]
  },
  {
   "cell_type": "code",
   "execution_count": 68,
   "id": "f21667b9",
   "metadata": {},
   "outputs": [
    {
     "name": "stdout",
     "output_type": "stream",
     "text": [
      "9.5367431640625e-07\n",
      "9.5367431640625e-07\n"
     ]
    }
   ],
   "source": [
    "def factor(num = 1):\n",
    "    if num > 1:\n",
    "         return num * factor(num - 1)\n",
    "    else:\n",
    "        return 1\n",
    "\n",
    "def calculate(data = 2):\n",
    "    result = factor(data)\n",
    "    result /= data ** 3\n",
    "    result = result ** 10\n",
    "    return result\n",
    "\n",
    "print(calculate())\n",
    "print(calculate())"
   ]
  },
  {
   "cell_type": "code",
   "execution_count": 81,
   "id": "21d06954",
   "metadata": {},
   "outputs": [
    {
     "name": "stdout",
     "output_type": "stream",
     "text": [
      "куплю/продам телефон недорого\n",
      "у меня самая низкая цена на телефон\n",
      "купить\n",
      "продать\n"
     ]
    },
    {
     "data": {
      "text/plain": [
       "{'html': {'head': {'title': 'куплю/продам iphone недорого'},\n",
       "  'body': {'h2': 'у меня самая низкая цена на iphone',\n",
       "   'div': 'купить',\n",
       "   'p': 'продать'}}}"
      ]
     },
     "execution_count": 81,
     "metadata": {},
     "output_type": "execute_result"
    }
   ],
   "source": [
    "def change_name(site, name):\n",
    "    for i in site.keys():\n",
    "        if type(site[i]) == dict:\n",
    "            change_name(site[i], name)\n",
    "        if type(site[i]) == str:\n",
    "            print(site[i])\n",
    "            site[i] = site[i].replace(\"телефон\", name)\n",
    "\n",
    "    \n",
    "site = {\n",
    "    'html': {\n",
    "        'head': {\n",
    "            'title': \"куплю/продам телефон недорого\"\n",
    "        },\n",
    "        'body': {\n",
    "            'h2': \"у меня самая низкая цена на телефон\",\n",
    "            'div': \"купить\",\n",
    "            'p': \"продать\"\n",
    "        }\n",
    "        \n",
    "    }\n",
    "}\n",
    "\n",
    "change_name(site, \"iphone\")\n",
    "site"
   ]
  },
  {
   "cell_type": "code",
   "execution_count": 16,
   "id": "5442ce67",
   "metadata": {},
   "outputs": [
    {
     "ename": "TypeError",
     "evalue": "unsupported operand type(s) for +=: 'int' and 'list'",
     "output_type": "error",
     "traceback": [
      "\u001b[1;31m---------------------------------------------------------------------------\u001b[0m",
      "\u001b[1;31mTypeError\u001b[0m                                 Traceback (most recent call last)",
      "\u001b[1;32m~\\AppData\\Local\\Temp/ipykernel_8444/3685014977.py\u001b[0m in \u001b[0;36m<module>\u001b[1;34m\u001b[0m\n\u001b[0;32m      4\u001b[0m         \u001b[0msumm\u001b[0m \u001b[1;33m+=\u001b[0m \u001b[0mnum\u001b[0m\u001b[1;33m\u001b[0m\u001b[1;33m\u001b[0m\u001b[0m\n\u001b[0;32m      5\u001b[0m     \u001b[0mprint\u001b[0m\u001b[1;33m(\u001b[0m\u001b[0msumm\u001b[0m\u001b[1;33m)\u001b[0m\u001b[1;33m\u001b[0m\u001b[1;33m\u001b[0m\u001b[0m\n\u001b[1;32m----> 6\u001b[1;33m \u001b[0mmy_sum\u001b[0m\u001b[1;33m(\u001b[0m\u001b[1;33m[\u001b[0m\u001b[1;36m1\u001b[0m\u001b[1;33m,\u001b[0m\u001b[1;36m2\u001b[0m\u001b[1;33m,\u001b[0m\u001b[1;36m3\u001b[0m\u001b[1;33m,\u001b[0m\u001b[1;36m4\u001b[0m\u001b[1;33m,\u001b[0m\u001b[1;36m5\u001b[0m\u001b[1;33m]\u001b[0m\u001b[1;33m,\u001b[0m \u001b[1;36m0\u001b[0m\u001b[1;33m)\u001b[0m\u001b[1;33m\u001b[0m\u001b[1;33m\u001b[0m\u001b[0m\n\u001b[0m",
      "\u001b[1;32m~\\AppData\\Local\\Temp/ipykernel_8444/3685014977.py\u001b[0m in \u001b[0;36mmy_sum\u001b[1;34m(*args)\u001b[0m\n\u001b[0;32m      2\u001b[0m     \u001b[0msumm\u001b[0m \u001b[1;33m=\u001b[0m \u001b[1;36m0\u001b[0m\u001b[1;33m\u001b[0m\u001b[1;33m\u001b[0m\u001b[0m\n\u001b[0;32m      3\u001b[0m     \u001b[1;32mfor\u001b[0m \u001b[0mnum\u001b[0m \u001b[1;32min\u001b[0m \u001b[0margs\u001b[0m\u001b[1;33m:\u001b[0m\u001b[1;33m\u001b[0m\u001b[1;33m\u001b[0m\u001b[0m\n\u001b[1;32m----> 4\u001b[1;33m         \u001b[0msumm\u001b[0m \u001b[1;33m+=\u001b[0m \u001b[0mnum\u001b[0m\u001b[1;33m\u001b[0m\u001b[1;33m\u001b[0m\u001b[0m\n\u001b[0m\u001b[0;32m      5\u001b[0m     \u001b[0mprint\u001b[0m\u001b[1;33m(\u001b[0m\u001b[0msumm\u001b[0m\u001b[1;33m)\u001b[0m\u001b[1;33m\u001b[0m\u001b[1;33m\u001b[0m\u001b[0m\n\u001b[0;32m      6\u001b[0m \u001b[0mmy_sum\u001b[0m\u001b[1;33m(\u001b[0m\u001b[1;33m[\u001b[0m\u001b[1;36m1\u001b[0m\u001b[1;33m,\u001b[0m\u001b[1;36m2\u001b[0m\u001b[1;33m,\u001b[0m\u001b[1;36m3\u001b[0m\u001b[1;33m,\u001b[0m\u001b[1;36m4\u001b[0m\u001b[1;33m,\u001b[0m\u001b[1;36m5\u001b[0m\u001b[1;33m]\u001b[0m\u001b[1;33m,\u001b[0m \u001b[1;36m0\u001b[0m\u001b[1;33m)\u001b[0m\u001b[1;33m\u001b[0m\u001b[1;33m\u001b[0m\u001b[0m\n",
      "\u001b[1;31mTypeError\u001b[0m: unsupported operand type(s) for +=: 'int' and 'list'"
     ]
    }
   ],
   "source": [
    "def my_sum(*args):\n",
    "    summ = 0\n",
    "    for num in args:\n",
    "        summ += num\n",
    "    print(summ)\n",
    "my_sum([1,2,3,4,5], 0)"
   ]
  },
  {
   "cell_type": "code",
   "execution_count": null,
   "id": "636bddce",
   "metadata": {},
   "outputs": [],
   "source": []
  }
 ],
 "metadata": {
  "kernelspec": {
   "display_name": "Python 3 (ipykernel)",
   "language": "python",
   "name": "python3"
  },
  "language_info": {
   "codemirror_mode": {
    "name": "ipython",
    "version": 3
   },
   "file_extension": ".py",
   "mimetype": "text/x-python",
   "name": "python",
   "nbconvert_exporter": "python",
   "pygments_lexer": "ipython3",
   "version": "3.9.7"
  }
 },
 "nbformat": 4,
 "nbformat_minor": 5
}
