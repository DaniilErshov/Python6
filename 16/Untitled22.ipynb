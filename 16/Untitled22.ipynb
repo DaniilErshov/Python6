{
  "nbformat": 4,
  "nbformat_minor": 0,
  "metadata": {
    "colab": {
      "name": "Untitled22.ipynb",
      "provenance": [],
      "authorship_tag": "ABX9TyOqbyR5Inb1pdsarPR+d5h+",
      "include_colab_link": true
    },
    "kernelspec": {
      "name": "python3",
      "display_name": "Python 3"
    },
    "language_info": {
      "name": "python"
    }
  },
  "cells": [
    {
      "cell_type": "markdown",
      "metadata": {
        "id": "view-in-github",
        "colab_type": "text"
      },
      "source": [
        "<a href=\"https://colab.research.google.com/github/DaniilErshov/Python6/blob/main/16/Untitled22.ipynb\" target=\"_parent\"><img src=\"https://colab.research.google.com/assets/colab-badge.svg\" alt=\"Open In Colab\"/></a>"
      ]
    },
    {
      "cell_type": "markdown",
      "source": [
        "1 задание"
      ],
      "metadata": {
        "id": "MqA6bpC8aIxY"
      }
    },
    {
      "cell_type": "code",
      "execution_count": null,
      "metadata": {
        "colab": {
          "base_uri": "https://localhost:8080/"
        },
        "id": "J5Oxmc2aZnpS",
        "outputId": "a58f2ccb-d679-439b-d07c-86db55359a94"
      },
      "outputs": [
        {
          "output_type": "stream",
          "name": "stdout",
          "text": [
            "1\n",
            "2\n",
            "3\n",
            "4\n",
            "5\n",
            "6\n",
            "7\n",
            "8\n",
            "9\n"
          ]
        }
      ],
      "source": [
        "def printNum(n):\n",
        "  if n > 1:\n",
        "    printNum(n-1)\n",
        "    print(n-1)\n",
        "\n",
        "printNum(10)"
      ]
    },
    {
      "cell_type": "markdown",
      "source": [
        "3 задание"
      ],
      "metadata": {
        "id": "XOmCH4D0bMrZ"
      }
    },
    {
      "cell_type": "code",
      "source": [
        "def fib(num_pos):\n",
        "  return fibbon(1, 1, 2, num_pos)\n",
        "\n",
        "def fibbon(a,b,i, num_pos):\n",
        "  if num_pos == 1:\n",
        "    return 1\n",
        "  if  num_pos == 2:\n",
        "    return 1\n",
        "  elif i != num_pos:\n",
        "    b = fibbon(b, a+b, i + 1, num_pos)\n",
        "  return b\n",
        "\n",
        "print(fib(10))"
      ],
      "metadata": {
        "colab": {
          "base_uri": "https://localhost:8080/"
        },
        "id": "8z2gbbPGbN11",
        "outputId": "3fb719a7-61f7-49e8-bfa7-50bacf8deec5"
      },
      "execution_count": null,
      "outputs": [
        {
          "output_type": "stream",
          "name": "stdout",
          "text": [
            "55\n"
          ]
        }
      ]
    },
    {
      "cell_type": "markdown",
      "source": [
        "4 задание"
      ],
      "metadata": {
        "id": "0aObnnhViDc0"
      }
    },
    {
      "cell_type": "code",
      "source": [
        "def find_key(site, key):\n",
        "    if key in site.keys():\n",
        "        return site[key]\n",
        "    else:\n",
        "        for i in site.keys():\n",
        "            if type(site[i]) == dict:\n",
        "                result = find_key(site[i], key)\n",
        "                if result != None:\n",
        "                    return result\n",
        "       \n",
        "site = {\n",
        "    'html': {\n",
        "        'head': {\n",
        "            'title': {\n",
        "                'title1': \"t1\",\n",
        "                'title2': \"t2\"\n",
        "            }\n",
        "        },\n",
        "        'body': {\n",
        "            'h2': \"здесь будет\",\n",
        "            'div': \"block\",\n",
        "            'p': \"abzac\"\n",
        "        }\n",
        "        \n",
        "    }\n",
        "}\n",
        "\n",
        "\n",
        "key = 'head'\n",
        "print(find_key(site,'title1'))"
      ],
      "metadata": {
        "colab": {
          "base_uri": "https://localhost:8080/"
        },
        "id": "zlJJLqFIiEqi",
        "outputId": "f711f4ab-5630-4762-d822-9f7e012aeaa1"
      },
      "execution_count": 3,
      "outputs": [
        {
          "output_type": "stream",
          "name": "stdout",
          "text": [
            "t1\n"
          ]
        }
      ]
    },
    {
      "cell_type": "code",
      "source": [
        "def factor(num = 1):\n",
        "    if num > 1:\n",
        "         return num * factor(num - 1)\n",
        "    else:\n",
        "        return 1\n",
        "\n",
        "def calculate(data = 2):\n",
        "    result = factor(data)\n",
        "    result /= data ** 3\n",
        "    result = result ** 10\n",
        "    return result\n",
        "\n",
        "print(calculate())\n",
        "print(calculate())"
      ],
      "metadata": {
        "colab": {
          "base_uri": "https://localhost:8080/"
        },
        "id": "5F5II4GRy9Yf",
        "outputId": "c17fa052-b7f1-48a1-c06d-00696501f492"
      },
      "execution_count": 4,
      "outputs": [
        {
          "output_type": "stream",
          "name": "stdout",
          "text": [
            "9.5367431640625e-07\n",
            "9.5367431640625e-07\n"
          ]
        }
      ]
    },
    {
      "cell_type": "code",
      "source": [
        "def change_name(site, name):\n",
        "    for i in site.keys():\n",
        "        if type(site[i]) == dict:\n",
        "            change_name(site[i], name)\n",
        "        if type(site[i]) == str:\n",
        "            print(site[i])\n",
        "            site[i] = site[i].replace(\"телефон\", name)\n",
        "\n",
        "    \n",
        "site = {\n",
        "    'html': {\n",
        "        'head': {\n",
        "            'title': \"куплю/продам телефон недорого\"\n",
        "        },\n",
        "        'body': {\n",
        "            'h2': \"у меня самая низкая цена на телефон\",\n",
        "            'div': \"купить\",\n",
        "            'p': \"продать\"\n",
        "        }\n",
        "        \n",
        "    }\n",
        "}\n",
        "\n",
        "change_name(site, \"iphone\")\n",
        "site"
      ],
      "metadata": {
        "id": "pwhYZO0R0apq",
        "colab": {
          "base_uri": "https://localhost:8080/"
        },
        "outputId": "9e8ac4ee-08e8-4546-f8a4-83b06afc1bd0"
      },
      "execution_count": 5,
      "outputs": [
        {
          "output_type": "stream",
          "name": "stdout",
          "text": [
            "куплю/продам телефон недорого\n",
            "у меня самая низкая цена на телефон\n",
            "купить\n",
            "продать\n"
          ]
        },
        {
          "output_type": "execute_result",
          "data": {
            "text/plain": [
              "{'html': {'body': {'div': 'купить',\n",
              "   'h2': 'у меня самая низкая цена на iphone',\n",
              "   'p': 'продать'},\n",
              "  'head': {'title': 'куплю/продам iphone недорого'}}}"
            ]
          },
          "metadata": {},
          "execution_count": 5
        }
      ]
    },
    {
      "cell_type": "code",
      "source": [
        "def my_sum(*element):\n",
        "  el = list(element)\n",
        "  return my_sum2(el)\n",
        "  \n",
        "\n",
        "def my_sum2(lst):\n",
        "  summ = 0\n",
        "  for i in lst:\n",
        "    if type(i) == list:\n",
        "      summ = summ + my_sum2(i)\n",
        "    if type(i) == int:\n",
        "      summ += i\n",
        "  return summ\n",
        "\n",
        "print(my_sum(1,2,3,4,5))\n",
        "print(my_sum([1,2,3,[4,5],6,[7,8,[9,10]]]))"
      ],
      "metadata": {
        "colab": {
          "base_uri": "https://localhost:8080/"
        },
        "id": "6H400ROSi8mf",
        "outputId": "43a3ec80-0c80-49f9-d1e3-fc6713db3bec"
      },
      "execution_count": 6,
      "outputs": [
        {
          "output_type": "stream",
          "name": "stdout",
          "text": [
            "15\n",
            "55\n"
          ]
        }
      ]
    },
    {
      "cell_type": "code",
      "source": [
        "def linear(lst):\n",
        "  lst_return = list()\n",
        "  for i in lst:\n",
        "    if type(i) == list:\n",
        "      lst_return.extend(linear(i))\n",
        "    else:\n",
        "      lst_return.append(i)\n",
        "  return(lst_return)\n",
        "\n",
        "print(linear([1,2,3,[4,5],6,[7,8,[9,10]]]))"
      ],
      "metadata": {
        "colab": {
          "base_uri": "https://localhost:8080/"
        },
        "id": "vKaRrR9WjMfg",
        "outputId": "00600520-104d-47ce-cb78-e670dc572ff1"
      },
      "execution_count": 7,
      "outputs": [
        {
          "output_type": "stream",
          "name": "stdout",
          "text": [
            "[1, 2, 3, 4, 5, 6, 7, 8, 9, 10]\n"
          ]
        }
      ]
    }
  ]
}